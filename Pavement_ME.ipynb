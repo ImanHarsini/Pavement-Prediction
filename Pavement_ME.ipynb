{
 "cells": [
  {
   "cell_type": "markdown",
   "metadata": {},
   "source": [
    "# Table of Contents\n",
    "* [Quick Predictions of Pavement Performance Using Neural Networks](#Quick-Predictions-of-Pavement-Performance-Using-Neural-Networks)\n",
    "\t* [Background](#Background)\n",
    "\t* [The Data](#The-Data)\n",
    "\t* [Our Goal](#Our-Goal)\n",
    "\t* [Data Overview](#Data-Overview)\n",
    "\t* [Exploratory Data Analysis](#Exploratory-Data-Analysis)\n",
    "\t\t* [Data Distribution](#Data-Distribution)\n",
    "\t\t* [Data Correlation](#Data-Correlation)\n",
    "\t\t* [Data Scatter](#Data-Scatter)\n",
    "\t\t* [Taking Care of Categorical Features](#Taking-Care-of-Categorical-Features)\n",
    "\t* [Data Modeling](#Data-Modeling)\n",
    "\t\t* [Rutting Model](#Rutting-Model)\n",
    "\t\t\t* [Scaling](#Scaling)\n",
    "\t\t\t* [Creating a Model](#Creating-a-Model)\n",
    "\t\t\t* [Training the Model](#Training-the-Model)\n",
    "\t\t\t* [Evaluation on Test Data](#Evaluation-on-Test-Data)\n",
    "\t\t* [IRI Model](#IRI-Model)\n",
    "\t\t\t* [Scaling](#Scaling)\n",
    "\t\t\t* [Training the Model](#Training-the-Model)\n",
    "\t\t* [Longitudinal Crackong Model](#Longitudinal-Crackong-Model)\n",
    "\t\t\t* [Scaling](#Scaling)\n",
    "\t\t\t* [Training the Model](#Training-the-Model)\n",
    "\t\t\t* [Evaluation on Test Data](#Evaluation-on-Test-Data)\n",
    "\t\t* [Alligator Cracking](#Alligator-Cracking)\n",
    "\t\t\t* [Scaling](#Scaling)\n",
    "\t\t\t* [Training the Model](#Training-the-Model)\n",
    "\t\t\t* [Evaluation on Test Data](#Evaluation-on-Test-Data)\n"
   ]
  },
  {
   "cell_type": "markdown",
   "metadata": {
    "colab_type": "text",
    "id": "XT--7YYIJDi0"
   },
   "source": [
    "# Quick Predictions of Pavement Performance Using Neural Networks"
   ]
  },
  {
   "cell_type": "markdown",
   "metadata": {
    "colab_type": "text",
    "id": "4nscZCfgeo9L"
   },
   "source": [
    "## Background"
   ]
  },
  {
   "cell_type": "markdown",
   "metadata": {},
   "source": [
    "The US roads exceed 4.1 million miles, the largest road network in the world <a id=\"ref-1\" href=\"https://www.fhwa.dot.gov/policyinformation/pubs/hf/pl11028/chapter1.cfm\">[1]</a>. Maintenance of this huge network alone costs more than $200 billion annually <a id=\"ref-1\" href=\"https://www.bidnet.com/resources/business-insights/us-government-spending-highway-infrastructure-en.jsp\">[2]</a>. In 2000, The National Cooperative Highway Research Program announced the development of a new approach for design and analysis of pavement structures: ***Pavement-ME (Mechanistic-Empirical)***<a id=\"ref-1\" href=\"http://onlinepubs.trb.org/onlinepubs/archive/mepdg/home.htm\">[3]</a> . \n",
    "\n",
    "The goal of Pavement-ME is to identify the physical causes of stresses in pavement structures and calibrate them with observed pavement performance. These two elements define this approach to pavement design: the focus on physical causes is the “mechanistic” part, and using observed performance to determine relationships is the “empirical” part.\n",
    "\n",
    "Using the mechanistic models and data, Pavement-ME process analyzes the pavement design with respect to performance indicators that reflect the projected impact of stresses and strains on the pavement over time. These performance indicators (for Hot Mix Asphalt pavements) include: \n",
    "\n",
    "*   Rutting\n",
    "*   IRI (Smoothness Index)\n",
    "*   Alligator Cracking\n",
    "*   Longitudinal Cracking"
   ]
  },
  {
   "cell_type": "markdown",
   "metadata": {
    "colab_type": "text",
    "id": "XMPsx-b0FYiz"
   },
   "source": [
    "## The Data"
   ]
  },
  {
   "cell_type": "markdown",
   "metadata": {},
   "source": [
    "Pavement-ME requires hundreds of inputs to predict pavement response. The model that we propose here takes 11 inputs. These 11 inputs have been shortlisted from a large group of inputs by knowledge gathered from comprehensive literature review and performing in-house preliminary statistical analysis. Latin Hyper Cube Sampling (LHS) method <a id=\"ref-1\" href=\"https://www.statisticshowto.com/latin-hypercube-sampling/\">[4]</a> was adopted to select inputs combinations to cover the entire domain of inputs range. The pavement response for these combinations was obtained by Pavement-ME. \n",
    "\n",
    "NOTE: The data set is available on corresponding GitHub repo.\n",
    "\n",
    "***This effort is part of a project sponsored by Michigan Department of Transportation, titled: \"Preparation for Implementation of the Mechanistic Empirical Pavement Design Guide in Michigan Part 3: Local Calibration and Validation of the\n",
    "Pavement-ME Performance Models\" executed at Michigan State University.*** <a id=\"ref-1\" href=\"https://www.michigan.gov/documents/mdot/RC-1594_Part_1_432752_7.pdf\">[5]</a>"
   ]
  },
  {
   "cell_type": "markdown",
   "metadata": {
    "colab_type": "text",
    "id": "3G1a6tvTFu5b"
   },
   "source": [
    "## Our Goal"
   ]
  },
  {
   "cell_type": "markdown",
   "metadata": {},
   "source": [
    "Pavement-ME is relatively a new tool for States' Departments of Transportation, road agencies and pavement engineers. There is a lot to learn about this tool. One comprehensive aspect of Pavement-ME is that it requires hundreds of input before starting analysis. Moreover, each Pavement-ME run could take from several minutes to sometimes half an hour. Adding all other complications that come with this new tool makes it very time consuming for engineers to get quick estimates on pavement performance by changing input variables. Therefore, a model is proposed here to mimic pavement response outside Pavement-ME. \n",
    "\n",
    "Our model will predict the four performance indicators: Rutting, IRI, Alligator Cracking, Longitudinal Cracking"
   ]
  },
  {
   "cell_type": "markdown",
   "metadata": {
    "colab_type": "text",
    "id": "ItRlzJRBFv0l"
   },
   "source": [
    "## Data Overview"
   ]
  },
  {
   "cell_type": "markdown",
   "metadata": {
    "colab_type": "text",
    "id": "wAMY4N4rLl4c"
   },
   "source": [
    "Here is the information on our data set:\n",
    "\n",
    "<table border=\"1\" class=\"dataframe\">\n",
    "  <thead>\n",
    "    <tr style=\"text-align: right;\">\n",
    "      <th></th>\n",
    "      <th>Features</th>\n",
    "      <th>Description</th>\n",
    "    </tr>\n",
    "  </thead>\n",
    "  <tbody>\n",
    "    <tr>\n",
    "      <th>0</th>\n",
    "      <td>o_thick</td>\n",
    "      <td>Overlay (new pavement) thickness</td>\n",
    "    </tr>\n",
    "    <tr>\n",
    "      <th>1</th>\n",
    "      <td>o_effb</td>\n",
    "      <td>The amount of effective binder in overlay</td>\n",
    "    </tr>\n",
    "    <tr>\n",
    "      <th>2</th>\n",
    "      <td>o_pg</td>\n",
    "      <td>Overlay binder grade</td>\n",
    "    </tr>\n",
    "    <tr>\n",
    "      <th>3</th>\n",
    "      <td>o_av</td>\n",
    "      <td>Overlay air voids percentage</td>\n",
    "    </tr>\n",
    "    <tr>\n",
    "      <th>4</th>\n",
    "      <td>o_agg</td>\n",
    "      <td>Overlay aggregate gradation</td>\n",
    "    </tr>\n",
    "    <tr>\n",
    "      <th>5</th>\n",
    "      <td>ex_rating</td>\n",
    "      <td>Existing (old) pavement condition rating</td>\n",
    "    </tr>\n",
    "    <tr>\n",
    "      <th>6</th>\n",
    "      <td>ex_thick</td>\n",
    "      <td>Existing pavement thickness</td>\n",
    "    </tr>\n",
    "    <tr>\n",
    "      <th>7</th>\n",
    "      <td>ex_basem</td>\n",
    "      <td>Existing pavement base modulus</td>\n",
    "    </tr>\n",
    "    <tr>\n",
    "      <th>8</th>\n",
    "      <td>ex_subbasem</td>\n",
    "      <td>Existing pavement subbase modulus</td>\n",
    "    </tr>\n",
    "    <tr>\n",
    "      <th>9</th>\n",
    "      <td>sub_m</td>\n",
    "      <td>Modulus of subgrade reaction</td>\n",
    "    </tr>\n",
    "    <tr>\n",
    "      <th>10</th>\n",
    "      <td>climate</td>\n",
    "      <td>Michigan climate</td>\n",
    "    </tr>\n",
    "    <tr>\n",
    "      <th>11</th>\n",
    "      <td>lc</td>\n",
    "      <td>Pavement response: Logitudinal cracking</td>\n",
    "    </tr>\n",
    "    <tr>\n",
    "      <th>12</th>\n",
    "      <td>ac</td>\n",
    "      <td>Pavement response: Aligator cracking</td>\n",
    "    </tr>\n",
    "    <tr>\n",
    "      <th>13</th>\n",
    "      <td>rut</td>\n",
    "      <td>Pavement response: Rutting</td>\n",
    "    </tr>\n",
    "    <tr>\n",
    "      <th>14</th>\n",
    "      <td>iri</td>\n",
    "      <td>Pavement response: Internation Roughness Index</td>\n",
    "    </tr>\n",
    "    <tr>\n",
    "  </tbody>\n",
    "</table>"
   ]
  },
  {
   "cell_type": "markdown",
   "metadata": {
    "colab_type": "text",
    "id": "jTNOX8puVhhg"
   },
   "source": [
    "The first 10 rows are the inputs (or independent variables) and the last 4 rows are the outputs (or pavement performance predictors). The inputs starting with \"o\" indicate overlay or the new pavement, that is the pavement that is going to be poured over the existing pavement, i.e. old pavement. Inputs related to the existing pavement are indicated with an \"ex\" in the beginning. "
   ]
  },
  {
   "cell_type": "markdown",
   "metadata": {
    "colab_type": "text",
    "id": "p7TcvteAU_xp"
   },
   "source": [
    "We use Pandas, Numpy, Matplotlib and Seaborn libraries to explore our data"
   ]
  },
  {
   "cell_type": "code",
   "execution_count": 3,
   "metadata": {
    "colab": {},
    "colab_type": "code",
    "id": "cJMQlG4KLo4j"
   },
   "outputs": [],
   "source": [
    "import pandas as pd\n",
    "import numpy as np"
   ]
  },
  {
   "cell_type": "code",
   "execution_count": 4,
   "metadata": {
    "colab": {},
    "colab_type": "code",
    "id": "E-GoPhQDL0We"
   },
   "outputs": [],
   "source": [
    "import matplotlib.pyplot as plt\n",
    "import seaborn as sns"
   ]
  },
  {
   "cell_type": "code",
   "execution_count": 5,
   "metadata": {
    "colab": {},
    "colab_type": "code",
    "id": "rZMpv7F_L1wm"
   },
   "outputs": [],
   "source": [
    "%matplotlib inline"
   ]
  },
  {
   "cell_type": "code",
   "execution_count": 6,
   "metadata": {
    "colab": {},
    "colab_type": "code",
    "id": "7uDrdUHHL3ol"
   },
   "outputs": [],
   "source": [
    "df = pd.read_csv('MEPDG_Dataset.csv')"
   ]
  },
  {
   "cell_type": "markdown",
   "metadata": {
    "colab_type": "text",
    "id": "2phT1BkIVYr8"
   },
   "source": [
    "A quick look at our dataset reveals 220 observations (containing no null cell). Conventionally, pavement engineers dealing with **Pavement-ME** changed one input at a time while all other inputs constant. Here we propose changing all inputs at the same time. Here we are dealing with an 11-dimension space of inputs. Therefore, to produce representative **Response Surface Models (RSMs)**  we use **Latin Hyper Cube Sampling (LHS)** method to sample our entire domain. in LHS technique we specify the number of inputs combination before sampling. In this case we specify 220 combinations, yielding 220 observations. \n",
    "\n",
    "**Note: This effort is a preliminary effort to evaluate the effectiveness of Machine Learning techniques in pavement predictions. Therefore, we start by a rather small sample.**"
   ]
  },
  {
   "cell_type": "code",
   "execution_count": 5,
   "metadata": {
    "colab": {
     "base_uri": "https://localhost:8080/",
     "height": 399
    },
    "colab_type": "code",
    "id": "njMLi4jNMBxm",
    "outputId": "e6ee8c15-2346-4fc4-e844-fd56142e3833"
   },
   "outputs": [
    {
     "name": "stdout",
     "output_type": "stream",
     "text": [
      "<class 'pandas.core.frame.DataFrame'>\n",
      "RangeIndex: 220 entries, 0 to 219\n",
      "Data columns (total 15 columns):\n",
      " #   Column       Non-Null Count  Dtype  \n",
      "---  ------       --------------  -----  \n",
      " 0   o_thick      220 non-null    float64\n",
      " 1   o_effb       220 non-null    float64\n",
      " 2   o_pg         220 non-null    object \n",
      " 3   o_av         220 non-null    float64\n",
      " 4   o_agg        220 non-null    object \n",
      " 5   ex_rating    220 non-null    object \n",
      " 6   ex_thick     220 non-null    float64\n",
      " 7   ex_basem     220 non-null    int64  \n",
      " 8   ex_subbasem  220 non-null    int64  \n",
      " 9   sub_m        220 non-null    int64  \n",
      " 10  climate      220 non-null    object \n",
      " 11  lc           220 non-null    float64\n",
      " 12  ac           220 non-null    float64\n",
      " 13  rut          220 non-null    float64\n",
      " 14  iri          220 non-null    float64\n",
      "dtypes: float64(8), int64(3), object(4)\n",
      "memory usage: 25.9+ KB\n"
     ]
    }
   ],
   "source": [
    "df.info()"
   ]
  },
  {
   "cell_type": "markdown",
   "metadata": {
    "colab_type": "text",
    "id": "Blcvf-h2ZpkV"
   },
   "source": [
    "Some of the inputs are qualitative, namely the *o_agg: overlay aggregate gradation*, *ex_rating: existing pavement condition rating* and *climate*"
   ]
  },
  {
   "cell_type": "code",
   "execution_count": 6,
   "metadata": {
    "colab": {
     "base_uri": "https://localhost:8080/",
     "height": 395
    },
    "colab_type": "code",
    "id": "iEpcg-iCMDny",
    "outputId": "8567c858-a852-4741-c6d8-cdbc2ca4fa35"
   },
   "outputs": [
    {
     "data": {
      "text/html": [
       "<div>\n",
       "<style scoped>\n",
       "    .dataframe tbody tr th:only-of-type {\n",
       "        vertical-align: middle;\n",
       "    }\n",
       "\n",
       "    .dataframe tbody tr th {\n",
       "        vertical-align: top;\n",
       "    }\n",
       "\n",
       "    .dataframe thead th {\n",
       "        text-align: right;\n",
       "    }\n",
       "</style>\n",
       "<table border=\"1\" class=\"dataframe\">\n",
       "  <thead>\n",
       "    <tr style=\"text-align: right;\">\n",
       "      <th></th>\n",
       "      <th>o_thick</th>\n",
       "      <th>o_effb</th>\n",
       "      <th>o_pg</th>\n",
       "      <th>o_av</th>\n",
       "      <th>o_agg</th>\n",
       "      <th>ex_rating</th>\n",
       "      <th>ex_thick</th>\n",
       "      <th>ex_basem</th>\n",
       "      <th>ex_subbasem</th>\n",
       "      <th>sub_m</th>\n",
       "      <th>climate</th>\n",
       "      <th>lc</th>\n",
       "      <th>ac</th>\n",
       "      <th>rut</th>\n",
       "      <th>iri</th>\n",
       "    </tr>\n",
       "  </thead>\n",
       "  <tbody>\n",
       "    <tr>\n",
       "      <th>0</th>\n",
       "      <td>5.01</td>\n",
       "      <td>13.87</td>\n",
       "      <td>PG 58-22</td>\n",
       "      <td>9.99</td>\n",
       "      <td>Fine</td>\n",
       "      <td>Excellent</td>\n",
       "      <td>10.34</td>\n",
       "      <td>18188</td>\n",
       "      <td>16128</td>\n",
       "      <td>13659</td>\n",
       "      <td>Detroit</td>\n",
       "      <td>346.0</td>\n",
       "      <td>0.0251</td>\n",
       "      <td>0.393</td>\n",
       "      <td>110.8</td>\n",
       "    </tr>\n",
       "    <tr>\n",
       "      <th>1</th>\n",
       "      <td>2.57</td>\n",
       "      <td>11.03</td>\n",
       "      <td>PG 76-28</td>\n",
       "      <td>7.19</td>\n",
       "      <td>Coarse</td>\n",
       "      <td>Excellent</td>\n",
       "      <td>7.22</td>\n",
       "      <td>29108</td>\n",
       "      <td>13587</td>\n",
       "      <td>14313</td>\n",
       "      <td>Detroit</td>\n",
       "      <td>1470.0</td>\n",
       "      <td>0.9760</td>\n",
       "      <td>0.430</td>\n",
       "      <td>112.8</td>\n",
       "    </tr>\n",
       "    <tr>\n",
       "      <th>2</th>\n",
       "      <td>7.22</td>\n",
       "      <td>9.23</td>\n",
       "      <td>PG 76-28</td>\n",
       "      <td>9.48</td>\n",
       "      <td>Coarse</td>\n",
       "      <td>Very  Poor</td>\n",
       "      <td>6.05</td>\n",
       "      <td>39303</td>\n",
       "      <td>19261</td>\n",
       "      <td>10854</td>\n",
       "      <td>Pellston</td>\n",
       "      <td>1630.0</td>\n",
       "      <td>4.2100</td>\n",
       "      <td>0.194</td>\n",
       "      <td>105.8</td>\n",
       "    </tr>\n",
       "    <tr>\n",
       "      <th>3</th>\n",
       "      <td>6.29</td>\n",
       "      <td>13.45</td>\n",
       "      <td>PG 58-22</td>\n",
       "      <td>6.24</td>\n",
       "      <td>Fine</td>\n",
       "      <td>Excellent</td>\n",
       "      <td>6.39</td>\n",
       "      <td>26516</td>\n",
       "      <td>10313</td>\n",
       "      <td>20115</td>\n",
       "      <td>Detroit</td>\n",
       "      <td>22.2</td>\n",
       "      <td>0.0370</td>\n",
       "      <td>0.263</td>\n",
       "      <td>105.6</td>\n",
       "    </tr>\n",
       "    <tr>\n",
       "      <th>4</th>\n",
       "      <td>3.81</td>\n",
       "      <td>13.14</td>\n",
       "      <td>PG 58-22</td>\n",
       "      <td>8.33</td>\n",
       "      <td>Coarse</td>\n",
       "      <td>Very  Poor</td>\n",
       "      <td>6.72</td>\n",
       "      <td>30223</td>\n",
       "      <td>26441</td>\n",
       "      <td>8641</td>\n",
       "      <td>Detroit</td>\n",
       "      <td>1720.0</td>\n",
       "      <td>5.5600</td>\n",
       "      <td>0.420</td>\n",
       "      <td>114.6</td>\n",
       "    </tr>\n",
       "  </tbody>\n",
       "</table>\n",
       "</div>"
      ],
      "text/plain": [
       "   o_thick  o_effb      o_pg  o_av   o_agg   ex_rating  ex_thick  ex_basem  \\\n",
       "0     5.01   13.87  PG 58-22  9.99    Fine   Excellent     10.34     18188   \n",
       "1     2.57   11.03  PG 76-28  7.19  Coarse   Excellent      7.22     29108   \n",
       "2     7.22    9.23  PG 76-28  9.48  Coarse  Very  Poor      6.05     39303   \n",
       "3     6.29   13.45  PG 58-22  6.24    Fine   Excellent      6.39     26516   \n",
       "4     3.81   13.14  PG 58-22  8.33  Coarse  Very  Poor      6.72     30223   \n",
       "\n",
       "   ex_subbasem  sub_m   climate      lc      ac    rut    iri  \n",
       "0        16128  13659   Detroit   346.0  0.0251  0.393  110.8  \n",
       "1        13587  14313   Detroit  1470.0  0.9760  0.430  112.8  \n",
       "2        19261  10854  Pellston  1630.0  4.2100  0.194  105.8  \n",
       "3        10313  20115   Detroit    22.2  0.0370  0.263  105.6  \n",
       "4        26441   8641   Detroit  1720.0  5.5600  0.420  114.6  "
      ]
     },
     "execution_count": 6,
     "metadata": {},
     "output_type": "execute_result"
    }
   ],
   "source": [
    "df.head()"
   ]
  },
  {
   "cell_type": "markdown",
   "metadata": {
    "colab_type": "text",
    "id": "HPYg5TynaHWM"
   },
   "source": [
    "The rest of the inputs are quantitative. The min and max of the inputs are very close to whole numbers. This is due to the fact that before sampling our domain, we set a range for each input. For example for *o_thick: overlay thickness* the range is set between 2 to 8 inches. 2 to 8 inch pavement thickness is what is practiced in really. The range for the inputs are predetermined to avoid unrealistic pavement input combinations (e.g. a pavement with negative or 100 inch thickness).\n",
    "\n",
    "Looking at the pavement responses *lc: longitudinal cracking* and *ac: alligator cracking* the min is almost 0 (no cracking in the pavement) and the max is ~10,000 and 60 respectively. However, the 50 percentile for both of these pavement responses are very close th min (175 and 1 respectively). This means that for most of the inputs combinations the **Pavement-ME** model predicts very little cracking. This skewed effect is less prominent in the other pavement responses (i.e. rut: rutting and iri: smoothness).\n",
    "\n",
    "Finally, the inputs consist of variables with different orders of magnitude. Some inputs such as thickness vary from 2 to 8 while some other vary from 10,000 to 100,000. Thus it is essential to perform scaling on our inputs."
   ]
  },
  {
   "cell_type": "code",
   "execution_count": 7,
   "metadata": {
    "colab": {
     "base_uri": "https://localhost:8080/",
     "height": 386
    },
    "colab_type": "code",
    "format": "row",
    "id": "lf5kgWVpME_V",
    "outputId": "842166f9-7a72-4e87-e3fe-19431a5e14b9"
   },
   "outputs": [
    {
     "data": {
      "text/html": [
       "<div>\n",
       "<style scoped>\n",
       "    .dataframe tbody tr th:only-of-type {\n",
       "        vertical-align: middle;\n",
       "    }\n",
       "\n",
       "    .dataframe tbody tr th {\n",
       "        vertical-align: top;\n",
       "    }\n",
       "\n",
       "    .dataframe thead th {\n",
       "        text-align: right;\n",
       "    }\n",
       "</style>\n",
       "<table border=\"1\" class=\"dataframe\">\n",
       "  <thead>\n",
       "    <tr style=\"text-align: right;\">\n",
       "      <th></th>\n",
       "      <th>count</th>\n",
       "      <th>mean</th>\n",
       "      <th>std</th>\n",
       "      <th>min</th>\n",
       "      <th>25%</th>\n",
       "      <th>50%</th>\n",
       "      <th>75%</th>\n",
       "      <th>max</th>\n",
       "    </tr>\n",
       "  </thead>\n",
       "  <tbody>\n",
       "    <tr>\n",
       "      <th>o_thick</th>\n",
       "      <td>220.0</td>\n",
       "      <td>5.000727</td>\n",
       "      <td>1.737158</td>\n",
       "      <td>2.0000</td>\n",
       "      <td>3.51250</td>\n",
       "      <td>4.9950</td>\n",
       "      <td>6.49750</td>\n",
       "      <td>7.990</td>\n",
       "    </tr>\n",
       "    <tr>\n",
       "      <th>o_effb</th>\n",
       "      <td>220.0</td>\n",
       "      <td>10.499864</td>\n",
       "      <td>2.025075</td>\n",
       "      <td>7.0300</td>\n",
       "      <td>8.76750</td>\n",
       "      <td>10.5050</td>\n",
       "      <td>12.25000</td>\n",
       "      <td>13.970</td>\n",
       "    </tr>\n",
       "    <tr>\n",
       "      <th>o_av</th>\n",
       "      <td>220.0</td>\n",
       "      <td>8.499955</td>\n",
       "      <td>2.024321</td>\n",
       "      <td>5.0200</td>\n",
       "      <td>6.76000</td>\n",
       "      <td>8.5000</td>\n",
       "      <td>10.25250</td>\n",
       "      <td>11.980</td>\n",
       "    </tr>\n",
       "    <tr>\n",
       "      <th>ex_thick</th>\n",
       "      <td>220.0</td>\n",
       "      <td>8.001091</td>\n",
       "      <td>2.313406</td>\n",
       "      <td>4.0300</td>\n",
       "      <td>6.01250</td>\n",
       "      <td>8.0000</td>\n",
       "      <td>9.98500</td>\n",
       "      <td>11.990</td>\n",
       "    </tr>\n",
       "    <tr>\n",
       "      <th>ex_basem</th>\n",
       "      <td>220.0</td>\n",
       "      <td>27501.254545</td>\n",
       "      <td>7233.834238</td>\n",
       "      <td>15095.0000</td>\n",
       "      <td>21266.25000</td>\n",
       "      <td>27527.5000</td>\n",
       "      <td>33683.25000</td>\n",
       "      <td>39890.000</td>\n",
       "    </tr>\n",
       "    <tr>\n",
       "      <th>ex_subbasem</th>\n",
       "      <td>220.0</td>\n",
       "      <td>20001.004545</td>\n",
       "      <td>5786.652554</td>\n",
       "      <td>10058.0000</td>\n",
       "      <td>15032.00000</td>\n",
       "      <td>19999.5000</td>\n",
       "      <td>24975.00000</td>\n",
       "      <td>29917.000</td>\n",
       "    </tr>\n",
       "    <tr>\n",
       "      <th>sub_m</th>\n",
       "      <td>220.0</td>\n",
       "      <td>13746.877273</td>\n",
       "      <td>6511.900328</td>\n",
       "      <td>2521.0000</td>\n",
       "      <td>8173.00000</td>\n",
       "      <td>13750.5000</td>\n",
       "      <td>19345.50000</td>\n",
       "      <td>24975.000</td>\n",
       "    </tr>\n",
       "    <tr>\n",
       "      <th>lc</th>\n",
       "      <td>220.0</td>\n",
       "      <td>2348.631727</td>\n",
       "      <td>3407.314226</td>\n",
       "      <td>0.0000</td>\n",
       "      <td>0.41750</td>\n",
       "      <td>175.0000</td>\n",
       "      <td>4070.00000</td>\n",
       "      <td>10500.000</td>\n",
       "    </tr>\n",
       "    <tr>\n",
       "      <th>ac</th>\n",
       "      <td>220.0</td>\n",
       "      <td>6.034606</td>\n",
       "      <td>11.942027</td>\n",
       "      <td>0.0123</td>\n",
       "      <td>0.19175</td>\n",
       "      <td>0.9540</td>\n",
       "      <td>5.08750</td>\n",
       "      <td>63.100</td>\n",
       "    </tr>\n",
       "    <tr>\n",
       "      <th>rut</th>\n",
       "      <td>220.0</td>\n",
       "      <td>0.308218</td>\n",
       "      <td>0.198466</td>\n",
       "      <td>0.0940</td>\n",
       "      <td>0.17750</td>\n",
       "      <td>0.2565</td>\n",
       "      <td>0.36825</td>\n",
       "      <td>1.469</td>\n",
       "    </tr>\n",
       "    <tr>\n",
       "      <th>iri</th>\n",
       "      <td>220.0</td>\n",
       "      <td>111.808636</td>\n",
       "      <td>15.441496</td>\n",
       "      <td>98.9000</td>\n",
       "      <td>103.17500</td>\n",
       "      <td>107.3000</td>\n",
       "      <td>112.87500</td>\n",
       "      <td>197.300</td>\n",
       "    </tr>\n",
       "  </tbody>\n",
       "</table>\n",
       "</div>"
      ],
      "text/plain": [
       "             count          mean          std         min          25%  \\\n",
       "o_thick      220.0      5.000727     1.737158      2.0000      3.51250   \n",
       "o_effb       220.0     10.499864     2.025075      7.0300      8.76750   \n",
       "o_av         220.0      8.499955     2.024321      5.0200      6.76000   \n",
       "ex_thick     220.0      8.001091     2.313406      4.0300      6.01250   \n",
       "ex_basem     220.0  27501.254545  7233.834238  15095.0000  21266.25000   \n",
       "ex_subbasem  220.0  20001.004545  5786.652554  10058.0000  15032.00000   \n",
       "sub_m        220.0  13746.877273  6511.900328   2521.0000   8173.00000   \n",
       "lc           220.0   2348.631727  3407.314226      0.0000      0.41750   \n",
       "ac           220.0      6.034606    11.942027      0.0123      0.19175   \n",
       "rut          220.0      0.308218     0.198466      0.0940      0.17750   \n",
       "iri          220.0    111.808636    15.441496     98.9000    103.17500   \n",
       "\n",
       "                    50%          75%        max  \n",
       "o_thick          4.9950      6.49750      7.990  \n",
       "o_effb          10.5050     12.25000     13.970  \n",
       "o_av             8.5000     10.25250     11.980  \n",
       "ex_thick         8.0000      9.98500     11.990  \n",
       "ex_basem     27527.5000  33683.25000  39890.000  \n",
       "ex_subbasem  19999.5000  24975.00000  29917.000  \n",
       "sub_m        13750.5000  19345.50000  24975.000  \n",
       "lc             175.0000   4070.00000  10500.000  \n",
       "ac               0.9540      5.08750     63.100  \n",
       "rut              0.2565      0.36825      1.469  \n",
       "iri            107.3000    112.87500    197.300  "
      ]
     },
     "execution_count": 7,
     "metadata": {},
     "output_type": "execute_result"
    }
   ],
   "source": [
    "df.describe().transpose()"
   ]
  },
  {
   "cell_type": "markdown",
   "metadata": {
    "colab_type": "text",
    "id": "9ROukU3PG_QM"
   },
   "source": [
    "## Exploratory Data Analysis"
   ]
  },
  {
   "cell_type": "markdown",
   "metadata": {},
   "source": [
    "**OVERALL GOAL: Get an understanding for which variables are important, view summary statistics, and visualize the data**\n"
   ]
  },
  {
   "cell_type": "markdown",
   "metadata": {},
   "source": [
    "### Data Distribution"
   ]
  },
  {
   "cell_type": "code",
   "execution_count": 8,
   "metadata": {
    "colab": {
     "base_uri": "https://localhost:8080/",
     "height": 441
    },
    "colab_type": "code",
    "id": "-LwZgtszMJ5A",
    "outputId": "67f3e174-4423-48cd-9ca0-53ca29d3a65f"
   },
   "outputs": [
    {
     "data": {
      "image/png": "[encoded data removed]",
      "text/plain": [
       "<Figure size 864x432 with 4 Axes>"
      ]
     },
     "metadata": {
      "needs_background": "light"
     },
     "output_type": "display_data"
    }
   ],
   "source": [
    "fig, axs = plt.subplots(2, 2,figsize=(12,6))\n",
    "axs[0, 0].hist(x=df['lc'],bins=10)\n",
    "axs[0, 0].set_title('Longitudinal Cracking')\n",
    "axs[0, 1].hist(df['ac'],bins=10)\n",
    "axs[0, 1].set_title('Alligator Cracking')\n",
    "axs[1, 0].hist(df['rut'],bins=10)\n",
    "axs[1, 0].set_title('Rutting')\n",
    "axs[1, 1].hist(df['iri'],bins=10)\n",
    "axs[1, 1].set_title('Smoothness')\n",
    "\n",
    "plt.tight_layout()"
   ]
  },
  {
   "cell_type": "markdown",
   "metadata": {
    "colab_type": "text",
    "id": "M4Jd4DnWMT8I"
   },
   "source": [
    "**The majority of  responses are skewed to the left. Especially for the case of alligator and longitudinal cracking the majority of the results are small numbers close to zero.** We caught this behavior by looking at the summary of the data as well. We have to perform some kind of transformation to take care of the skewness. "
   ]
  },
  {
   "cell_type": "markdown",
   "metadata": {},
   "source": [
    "### Data Correlation"
   ]
  },
  {
   "cell_type": "markdown",
   "metadata": {
    "colab_type": "text",
    "id": "8F2CbsKJMX5O"
   },
   "source": [
    "Let's explore correlation between the continuous feature variables by calculating correlation between all continuous numeric variables."
   ]
  },
  {
   "cell_type": "code",
   "execution_count": 9,
   "metadata": {
    "colab": {
     "base_uri": "https://localhost:8080/",
     "height": 406
    },
    "colab_type": "code",
    "id": "gMuZeGJrMYNw",
    "outputId": "bfb280ca-0444-4fb4-bfb1-9c87a4bbf8c5"
   },
   "outputs": [
    {
     "data": {
      "text/html": [
       "<div>\n",
       "<style scoped>\n",
       "    .dataframe tbody tr th:only-of-type {\n",
       "        vertical-align: middle;\n",
       "    }\n",
       "\n",
       "    .dataframe tbody tr th {\n",
       "        vertical-align: top;\n",
       "    }\n",
       "\n",
       "    .dataframe thead th {\n",
       "        text-align: right;\n",
       "    }\n",
       "</style>\n",
       "<table border=\"1\" class=\"dataframe\">\n",
       "  <thead>\n",
       "    <tr style=\"text-align: right;\">\n",
       "      <th></th>\n",
       "      <th>o_thick</th>\n",
       "      <th>o_effb</th>\n",
       "      <th>o_av</th>\n",
       "      <th>ex_thick</th>\n",
       "      <th>ex_basem</th>\n",
       "      <th>ex_subbasem</th>\n",
       "      <th>sub_m</th>\n",
       "      <th>lc</th>\n",
       "      <th>ac</th>\n",
       "      <th>rut</th>\n",
       "      <th>iri</th>\n",
       "    </tr>\n",
       "  </thead>\n",
       "  <tbody>\n",
       "    <tr>\n",
       "      <th>o_thick</th>\n",
       "      <td>1.000000</td>\n",
       "      <td>-0.024255</td>\n",
       "      <td>-0.033432</td>\n",
       "      <td>-0.064541</td>\n",
       "      <td>-0.020547</td>\n",
       "      <td>0.057281</td>\n",
       "      <td>-0.113019</td>\n",
       "      <td>-0.505420</td>\n",
       "      <td>-0.417434</td>\n",
       "      <td>-0.623894</td>\n",
       "      <td>-0.554082</td>\n",
       "    </tr>\n",
       "    <tr>\n",
       "      <th>o_effb</th>\n",
       "      <td>-0.024255</td>\n",
       "      <td>1.000000</td>\n",
       "      <td>-0.107750</td>\n",
       "      <td>0.010397</td>\n",
       "      <td>-0.038456</td>\n",
       "      <td>0.023291</td>\n",
       "      <td>0.019025</td>\n",
       "      <td>-0.108787</td>\n",
       "      <td>-0.202818</td>\n",
       "      <td>0.101378</td>\n",
       "      <td>-0.067709</td>\n",
       "    </tr>\n",
       "    <tr>\n",
       "      <th>o_av</th>\n",
       "      <td>-0.033432</td>\n",
       "      <td>-0.107750</td>\n",
       "      <td>1.000000</td>\n",
       "      <td>0.033645</td>\n",
       "      <td>0.081361</td>\n",
       "      <td>-0.094137</td>\n",
       "      <td>-0.025056</td>\n",
       "      <td>0.183928</td>\n",
       "      <td>0.247976</td>\n",
       "      <td>0.201375</td>\n",
       "      <td>0.252579</td>\n",
       "    </tr>\n",
       "    <tr>\n",
       "      <th>ex_thick</th>\n",
       "      <td>-0.064541</td>\n",
       "      <td>0.010397</td>\n",
       "      <td>0.033645</td>\n",
       "      <td>1.000000</td>\n",
       "      <td>0.000623</td>\n",
       "      <td>-0.019390</td>\n",
       "      <td>0.047668</td>\n",
       "      <td>-0.414321</td>\n",
       "      <td>0.076972</td>\n",
       "      <td>-0.278689</td>\n",
       "      <td>-0.110018</td>\n",
       "    </tr>\n",
       "    <tr>\n",
       "      <th>ex_basem</th>\n",
       "      <td>-0.020547</td>\n",
       "      <td>-0.038456</td>\n",
       "      <td>0.081361</td>\n",
       "      <td>0.000623</td>\n",
       "      <td>1.000000</td>\n",
       "      <td>-0.041710</td>\n",
       "      <td>0.084448</td>\n",
       "      <td>-0.009264</td>\n",
       "      <td>-0.030562</td>\n",
       "      <td>-0.008275</td>\n",
       "      <td>-0.035232</td>\n",
       "    </tr>\n",
       "    <tr>\n",
       "      <th>ex_subbasem</th>\n",
       "      <td>0.057281</td>\n",
       "      <td>0.023291</td>\n",
       "      <td>-0.094137</td>\n",
       "      <td>-0.019390</td>\n",
       "      <td>-0.041710</td>\n",
       "      <td>1.000000</td>\n",
       "      <td>0.050422</td>\n",
       "      <td>-0.019165</td>\n",
       "      <td>-0.051338</td>\n",
       "      <td>-0.119312</td>\n",
       "      <td>-0.096870</td>\n",
       "    </tr>\n",
       "    <tr>\n",
       "      <th>sub_m</th>\n",
       "      <td>-0.113019</td>\n",
       "      <td>0.019025</td>\n",
       "      <td>-0.025056</td>\n",
       "      <td>0.047668</td>\n",
       "      <td>0.084448</td>\n",
       "      <td>0.050422</td>\n",
       "      <td>1.000000</td>\n",
       "      <td>0.199975</td>\n",
       "      <td>0.112961</td>\n",
       "      <td>0.039630</td>\n",
       "      <td>0.082033</td>\n",
       "    </tr>\n",
       "    <tr>\n",
       "      <th>lc</th>\n",
       "      <td>-0.505420</td>\n",
       "      <td>-0.108787</td>\n",
       "      <td>0.183928</td>\n",
       "      <td>-0.414321</td>\n",
       "      <td>-0.009264</td>\n",
       "      <td>-0.019165</td>\n",
       "      <td>0.199975</td>\n",
       "      <td>1.000000</td>\n",
       "      <td>0.598971</td>\n",
       "      <td>0.736031</td>\n",
       "      <td>0.730074</td>\n",
       "    </tr>\n",
       "    <tr>\n",
       "      <th>ac</th>\n",
       "      <td>-0.417434</td>\n",
       "      <td>-0.202818</td>\n",
       "      <td>0.247976</td>\n",
       "      <td>0.076972</td>\n",
       "      <td>-0.030562</td>\n",
       "      <td>-0.051338</td>\n",
       "      <td>0.112961</td>\n",
       "      <td>0.598971</td>\n",
       "      <td>1.000000</td>\n",
       "      <td>0.566960</td>\n",
       "      <td>0.900659</td>\n",
       "    </tr>\n",
       "    <tr>\n",
       "      <th>rut</th>\n",
       "      <td>-0.623894</td>\n",
       "      <td>0.101378</td>\n",
       "      <td>0.201375</td>\n",
       "      <td>-0.278689</td>\n",
       "      <td>-0.008275</td>\n",
       "      <td>-0.119312</td>\n",
       "      <td>0.039630</td>\n",
       "      <td>0.736031</td>\n",
       "      <td>0.566960</td>\n",
       "      <td>1.000000</td>\n",
       "      <td>0.845592</td>\n",
       "    </tr>\n",
       "    <tr>\n",
       "      <th>iri</th>\n",
       "      <td>-0.554082</td>\n",
       "      <td>-0.067709</td>\n",
       "      <td>0.252579</td>\n",
       "      <td>-0.110018</td>\n",
       "      <td>-0.035232</td>\n",
       "      <td>-0.096870</td>\n",
       "      <td>0.082033</td>\n",
       "      <td>0.730074</td>\n",
       "      <td>0.900659</td>\n",
       "      <td>0.845592</td>\n",
       "      <td>1.000000</td>\n",
       "    </tr>\n",
       "  </tbody>\n",
       "</table>\n",
       "</div>"
      ],
      "text/plain": [
       "              o_thick    o_effb      o_av  ex_thick  ex_basem  ex_subbasem  \\\n",
       "o_thick      1.000000 -0.024255 -0.033432 -0.064541 -0.020547     0.057281   \n",
       "o_effb      -0.024255  1.000000 -0.107750  0.010397 -0.038456     0.023291   \n",
       "o_av        -0.033432 -0.107750  1.000000  0.033645  0.081361    -0.094137   \n",
       "ex_thick    -0.064541  0.010397  0.033645  1.000000  0.000623    -0.019390   \n",
       "ex_basem    -0.020547 -0.038456  0.081361  0.000623  1.000000    -0.041710   \n",
       "ex_subbasem  0.057281  0.023291 -0.094137 -0.019390 -0.041710     1.000000   \n",
       "sub_m       -0.113019  0.019025 -0.025056  0.047668  0.084448     0.050422   \n",
       "lc          -0.505420 -0.108787  0.183928 -0.414321 -0.009264    -0.019165   \n",
       "ac          -0.417434 -0.202818  0.247976  0.076972 -0.030562    -0.051338   \n",
       "rut         -0.623894  0.101378  0.201375 -0.278689 -0.008275    -0.119312   \n",
       "iri         -0.554082 -0.067709  0.252579 -0.110018 -0.035232    -0.096870   \n",
       "\n",
       "                sub_m        lc        ac       rut       iri  \n",
       "o_thick     -0.113019 -0.505420 -0.417434 -0.623894 -0.554082  \n",
       "o_effb       0.019025 -0.108787 -0.202818  0.101378 -0.067709  \n",
       "o_av        -0.025056  0.183928  0.247976  0.201375  0.252579  \n",
       "ex_thick     0.047668 -0.414321  0.076972 -0.278689 -0.110018  \n",
       "ex_basem     0.084448 -0.009264 -0.030562 -0.008275 -0.035232  \n",
       "ex_subbasem  0.050422 -0.019165 -0.051338 -0.119312 -0.096870  \n",
       "sub_m        1.000000  0.199975  0.112961  0.039630  0.082033  \n",
       "lc           0.199975  1.000000  0.598971  0.736031  0.730074  \n",
       "ac           0.112961  0.598971  1.000000  0.566960  0.900659  \n",
       "rut          0.039630  0.736031  0.566960  1.000000  0.845592  \n",
       "iri          0.082033  0.730074  0.900659  0.845592  1.000000  "
      ]
     },
     "execution_count": 9,
     "metadata": {},
     "output_type": "execute_result"
    }
   ],
   "source": [
    "df.corr()"
   ]
  },
  {
   "cell_type": "markdown",
   "metadata": {
    "colab_type": "text",
    "id": "08-IAZKZdzIT"
   },
   "source": [
    "We use heatmap to show the possible correlations between inputs.\n",
    "\n",
    "**Strong correlation among pavement responses is evident.** This means that in case there exists a certain kind of pavement damage, another pavement damage is likely to exist too.\n",
    "\n",
    "**Moreover, correlation of overlay thickness and existing thickness with pavement response is relatively strong.** The correlation is negative, meaning that the thicker the overlay thickness, the lower the pavement response. This is intuitive as we lay down a thicker pavement we expect to observe less damage over time. Same argument can be made for existing pavement thickness."
   ]
  },
  {
   "cell_type": "code",
   "execution_count": 10,
   "metadata": {
    "colab": {
     "base_uri": "https://localhost:8080/",
     "height": 513
    },
    "colab_type": "code",
    "id": "-si7cXWsMZ0d",
    "outputId": "29fdee0e-b723-4903-ab83-47dd7dbe5c65"
   },
   "outputs": [
    {
     "data": {
      "image/png": "[encoded data removed]",
      "text/plain": [
       "<Figure size 864x504 with 2 Axes>"
      ]
     },
     "metadata": {
      "needs_background": "light"
     },
     "output_type": "display_data"
    }
   ],
   "source": [
    "plt.figure(figsize=(12,7))\n",
    "sns.heatmap(df.corr(),annot=True,cmap='viridis')\n",
    "#plt.ylim(10, 0)\n",
    "plt.tight_layout()"
   ]
  },
  {
   "cell_type": "markdown",
   "metadata": {},
   "source": [
    "### Data Scatter"
   ]
  },
  {
   "cell_type": "markdown",
   "metadata": {
    "colab_type": "text",
    "id": "8HyeK8gufID5"
   },
   "source": [
    "Scatter plots are another way of showing the dispersion in pavement responses. Previously, we established there is a correlation between pavement response and overlay thickness. So we plot them versus each other. Evidently, for longitudinal and alligator cracking the majority of the pavement responses are closer to zero. Seemingly, any pavement with 3 inch overlay or thicker is strong against alligator cracking."
   ]
  },
  {
   "cell_type": "code",
   "execution_count": 11,
   "metadata": {
    "colab": {
     "base_uri": "https://localhost:8080/",
     "height": 441
    },
    "colab_type": "code",
    "id": "GseMOgmqMdaq",
    "outputId": "a6ce867a-e561-48d6-f91a-13a376dce831"
   },
   "outputs": [
    {
     "data": {
      "image/png": "[encoded data removed]",
      "text/plain": [
       "<Figure size 864x432 with 4 Axes>"
      ]
     },
     "metadata": {
      "needs_background": "light"
     },
     "output_type": "display_data"
    }
   ],
   "source": [
    "fig, axs = plt.subplots(2, 2,figsize=(12,6))\n",
    "axs[0, 0].scatter(x=df['o_thick'],y=df['lc'])\n",
    "axs[0, 0].set_title('Longitudinal Cracking')\n",
    "axs[0, 1].scatter(x=df['o_thick'],y=df['ac'])\n",
    "axs[0, 1].set_title('Alligator Cracking')\n",
    "axs[1, 0].scatter(x=df['o_thick'],y=df['rut'])\n",
    "axs[1, 0].set_title('Rutting')\n",
    "axs[1, 1].scatter(x=df['o_thick'],y=df['iri'])\n",
    "axs[1, 1].set_title('Smoothness')\n",
    "\n",
    "plt.tight_layout()"
   ]
  },
  {
   "cell_type": "markdown",
   "metadata": {
    "colab_type": "text",
    "id": "arytNw0vkkZM"
   },
   "source": [
    "Pavement-ME requires more that 100 inputs to predict pavement response over time. Gathering 100 inputs is extremely time-consuming. Furthermore, some of the inputs are not significant and do not contribute to the final outcome. Moreover, Pavement-ME runs could take anywhere between 5 minutes to one hour for each prediction. Therefore, having a model to provide fast predictions using fewer inputs while working on the basis of Pavement-ME could be valuable for pavement engineers. They could use this model for quick prediction and estimation before attempting to employ with Pavement-ME. "
   ]
  },
  {
   "cell_type": "markdown",
   "metadata": {
    "colab_type": "text",
    "id": "9c8vd5SmMh_f"
   },
   "source": [
    "### Taking Care of Categorical Features"
   ]
  },
  {
   "cell_type": "markdown",
   "metadata": {
    "colab_type": "text",
    "id": "iZgTDraGvRxA"
   },
   "source": [
    "Four of our inputs are categorical. We need to convert them to dummy variables before any modeling attempt. Since there are two classes in each categorical variable, we use 0 to denote one class and 1 to denote the other. "
   ]
  },
  {
   "cell_type": "code",
   "execution_count": 12,
   "metadata": {
    "colab": {},
    "colab_type": "code",
    "id": "CebgdAigMiO7"
   },
   "outputs": [],
   "source": [
    "dummies = pd.get_dummies(df[['o_pg','o_agg','ex_rating','climate']], drop_first=True)"
   ]
  },
  {
   "cell_type": "code",
   "execution_count": 13,
   "metadata": {
    "colab": {
     "base_uri": "https://localhost:8080/",
     "height": 415
    },
    "colab_type": "code",
    "id": "WF7N5YckKiZe",
    "outputId": "2a05e430-ed33-40e8-bec7-b53aa7ded0a7"
   },
   "outputs": [
    {
     "data": {
      "text/html": [
       "<div>\n",
       "<style scoped>\n",
       "    .dataframe tbody tr th:only-of-type {\n",
       "        vertical-align: middle;\n",
       "    }\n",
       "\n",
       "    .dataframe tbody tr th {\n",
       "        vertical-align: top;\n",
       "    }\n",
       "\n",
       "    .dataframe thead th {\n",
       "        text-align: right;\n",
       "    }\n",
       "</style>\n",
       "<table border=\"1\" class=\"dataframe\">\n",
       "  <thead>\n",
       "    <tr style=\"text-align: right;\">\n",
       "      <th></th>\n",
       "      <th>o_pg_PG 76-28</th>\n",
       "      <th>o_agg_Fine</th>\n",
       "      <th>ex_rating_Very  Poor</th>\n",
       "      <th>climate_Pellston</th>\n",
       "    </tr>\n",
       "  </thead>\n",
       "  <tbody>\n",
       "    <tr>\n",
       "      <th>0</th>\n",
       "      <td>0</td>\n",
       "      <td>1</td>\n",
       "      <td>0</td>\n",
       "      <td>0</td>\n",
       "    </tr>\n",
       "    <tr>\n",
       "      <th>1</th>\n",
       "      <td>1</td>\n",
       "      <td>0</td>\n",
       "      <td>0</td>\n",
       "      <td>0</td>\n",
       "    </tr>\n",
       "    <tr>\n",
       "      <th>2</th>\n",
       "      <td>1</td>\n",
       "      <td>0</td>\n",
       "      <td>1</td>\n",
       "      <td>1</td>\n",
       "    </tr>\n",
       "    <tr>\n",
       "      <th>3</th>\n",
       "      <td>0</td>\n",
       "      <td>1</td>\n",
       "      <td>0</td>\n",
       "      <td>0</td>\n",
       "    </tr>\n",
       "    <tr>\n",
       "      <th>4</th>\n",
       "      <td>0</td>\n",
       "      <td>0</td>\n",
       "      <td>1</td>\n",
       "      <td>0</td>\n",
       "    </tr>\n",
       "    <tr>\n",
       "      <th>...</th>\n",
       "      <td>...</td>\n",
       "      <td>...</td>\n",
       "      <td>...</td>\n",
       "      <td>...</td>\n",
       "    </tr>\n",
       "    <tr>\n",
       "      <th>215</th>\n",
       "      <td>0</td>\n",
       "      <td>1</td>\n",
       "      <td>1</td>\n",
       "      <td>1</td>\n",
       "    </tr>\n",
       "    <tr>\n",
       "      <th>216</th>\n",
       "      <td>0</td>\n",
       "      <td>1</td>\n",
       "      <td>1</td>\n",
       "      <td>0</td>\n",
       "    </tr>\n",
       "    <tr>\n",
       "      <th>217</th>\n",
       "      <td>0</td>\n",
       "      <td>0</td>\n",
       "      <td>0</td>\n",
       "      <td>0</td>\n",
       "    </tr>\n",
       "    <tr>\n",
       "      <th>218</th>\n",
       "      <td>1</td>\n",
       "      <td>0</td>\n",
       "      <td>0</td>\n",
       "      <td>0</td>\n",
       "    </tr>\n",
       "    <tr>\n",
       "      <th>219</th>\n",
       "      <td>0</td>\n",
       "      <td>0</td>\n",
       "      <td>1</td>\n",
       "      <td>1</td>\n",
       "    </tr>\n",
       "  </tbody>\n",
       "</table>\n",
       "<p>220 rows × 4 columns</p>\n",
       "</div>"
      ],
      "text/plain": [
       "     o_pg_PG 76-28  o_agg_Fine  ex_rating_Very  Poor  climate_Pellston\n",
       "0                0           1                     0                 0\n",
       "1                1           0                     0                 0\n",
       "2                1           0                     1                 1\n",
       "3                0           1                     0                 0\n",
       "4                0           0                     1                 0\n",
       "..             ...         ...                   ...               ...\n",
       "215              0           1                     1                 1\n",
       "216              0           1                     1                 0\n",
       "217              0           0                     0                 0\n",
       "218              1           0                     0                 0\n",
       "219              0           0                     1                 1\n",
       "\n",
       "[220 rows x 4 columns]"
      ]
     },
     "execution_count": 13,
     "metadata": {},
     "output_type": "execute_result"
    }
   ],
   "source": [
    "dummies"
   ]
  },
  {
   "cell_type": "markdown",
   "metadata": {
    "colab_type": "text",
    "id": "V9-tijgjvVNe"
   },
   "source": [
    "get_dummies command outputs two columns. We drop the extra column. Moreover, we do not need the variables columns before converting so we remove them from our dataset as well."
   ]
  },
  {
   "cell_type": "code",
   "execution_count": 14,
   "metadata": {
    "colab": {},
    "colab_type": "code",
    "id": "qkNAXYDCMkFa"
   },
   "outputs": [],
   "source": [
    "df = df.drop(['o_pg','o_agg','ex_rating','climate'],axis=1)"
   ]
  },
  {
   "cell_type": "code",
   "execution_count": 15,
   "metadata": {
    "colab": {
     "base_uri": "https://localhost:8080/",
     "height": 415
    },
    "colab_type": "code",
    "id": "uk_XRvD-KfpO",
    "outputId": "c2cac4d7-0f1d-4ad1-febc-e286fc04554f"
   },
   "outputs": [
    {
     "data": {
      "text/html": [
       "<div>\n",
       "<style scoped>\n",
       "    .dataframe tbody tr th:only-of-type {\n",
       "        vertical-align: middle;\n",
       "    }\n",
       "\n",
       "    .dataframe tbody tr th {\n",
       "        vertical-align: top;\n",
       "    }\n",
       "\n",
       "    .dataframe thead th {\n",
       "        text-align: right;\n",
       "    }\n",
       "</style>\n",
       "<table border=\"1\" class=\"dataframe\">\n",
       "  <thead>\n",
       "    <tr style=\"text-align: right;\">\n",
       "      <th></th>\n",
       "      <th>o_thick</th>\n",
       "      <th>o_effb</th>\n",
       "      <th>o_av</th>\n",
       "      <th>ex_thick</th>\n",
       "      <th>ex_basem</th>\n",
       "      <th>ex_subbasem</th>\n",
       "      <th>sub_m</th>\n",
       "      <th>lc</th>\n",
       "      <th>ac</th>\n",
       "      <th>rut</th>\n",
       "      <th>iri</th>\n",
       "    </tr>\n",
       "  </thead>\n",
       "  <tbody>\n",
       "    <tr>\n",
       "      <th>0</th>\n",
       "      <td>5.01</td>\n",
       "      <td>13.87</td>\n",
       "      <td>9.99</td>\n",
       "      <td>10.34</td>\n",
       "      <td>18188</td>\n",
       "      <td>16128</td>\n",
       "      <td>13659</td>\n",
       "      <td>346.0</td>\n",
       "      <td>0.0251</td>\n",
       "      <td>0.393</td>\n",
       "      <td>110.8</td>\n",
       "    </tr>\n",
       "    <tr>\n",
       "      <th>1</th>\n",
       "      <td>2.57</td>\n",
       "      <td>11.03</td>\n",
       "      <td>7.19</td>\n",
       "      <td>7.22</td>\n",
       "      <td>29108</td>\n",
       "      <td>13587</td>\n",
       "      <td>14313</td>\n",
       "      <td>1470.0</td>\n",
       "      <td>0.9760</td>\n",
       "      <td>0.430</td>\n",
       "      <td>112.8</td>\n",
       "    </tr>\n",
       "    <tr>\n",
       "      <th>2</th>\n",
       "      <td>7.22</td>\n",
       "      <td>9.23</td>\n",
       "      <td>9.48</td>\n",
       "      <td>6.05</td>\n",
       "      <td>39303</td>\n",
       "      <td>19261</td>\n",
       "      <td>10854</td>\n",
       "      <td>1630.0</td>\n",
       "      <td>4.2100</td>\n",
       "      <td>0.194</td>\n",
       "      <td>105.8</td>\n",
       "    </tr>\n",
       "    <tr>\n",
       "      <th>3</th>\n",
       "      <td>6.29</td>\n",
       "      <td>13.45</td>\n",
       "      <td>6.24</td>\n",
       "      <td>6.39</td>\n",
       "      <td>26516</td>\n",
       "      <td>10313</td>\n",
       "      <td>20115</td>\n",
       "      <td>22.2</td>\n",
       "      <td>0.0370</td>\n",
       "      <td>0.263</td>\n",
       "      <td>105.6</td>\n",
       "    </tr>\n",
       "    <tr>\n",
       "      <th>4</th>\n",
       "      <td>3.81</td>\n",
       "      <td>13.14</td>\n",
       "      <td>8.33</td>\n",
       "      <td>6.72</td>\n",
       "      <td>30223</td>\n",
       "      <td>26441</td>\n",
       "      <td>8641</td>\n",
       "      <td>1720.0</td>\n",
       "      <td>5.5600</td>\n",
       "      <td>0.420</td>\n",
       "      <td>114.6</td>\n",
       "    </tr>\n",
       "    <tr>\n",
       "      <th>...</th>\n",
       "      <td>...</td>\n",
       "      <td>...</td>\n",
       "      <td>...</td>\n",
       "      <td>...</td>\n",
       "      <td>...</td>\n",
       "      <td>...</td>\n",
       "      <td>...</td>\n",
       "      <td>...</td>\n",
       "      <td>...</td>\n",
       "      <td>...</td>\n",
       "      <td>...</td>\n",
       "    </tr>\n",
       "    <tr>\n",
       "      <th>215</th>\n",
       "      <td>3.08</td>\n",
       "      <td>8.39</td>\n",
       "      <td>11.98</td>\n",
       "      <td>11.17</td>\n",
       "      <td>39516</td>\n",
       "      <td>11447</td>\n",
       "      <td>24354</td>\n",
       "      <td>1870.0</td>\n",
       "      <td>28.9000</td>\n",
       "      <td>0.346</td>\n",
       "      <td>126.9</td>\n",
       "    </tr>\n",
       "    <tr>\n",
       "      <th>216</th>\n",
       "      <td>2.25</td>\n",
       "      <td>7.14</td>\n",
       "      <td>6.02</td>\n",
       "      <td>9.89</td>\n",
       "      <td>34589</td>\n",
       "      <td>29069</td>\n",
       "      <td>19228</td>\n",
       "      <td>9530.0</td>\n",
       "      <td>18.4000</td>\n",
       "      <td>0.546</td>\n",
       "      <td>126.7</td>\n",
       "    </tr>\n",
       "    <tr>\n",
       "      <th>217</th>\n",
       "      <td>4.31</td>\n",
       "      <td>11.52</td>\n",
       "      <td>11.76</td>\n",
       "      <td>6.14</td>\n",
       "      <td>36367</td>\n",
       "      <td>11760</td>\n",
       "      <td>6096</td>\n",
       "      <td>1360.0</td>\n",
       "      <td>0.2610</td>\n",
       "      <td>0.519</td>\n",
       "      <td>116.0</td>\n",
       "    </tr>\n",
       "    <tr>\n",
       "      <th>218</th>\n",
       "      <td>7.10</td>\n",
       "      <td>13.26</td>\n",
       "      <td>5.97</td>\n",
       "      <td>8.69</td>\n",
       "      <td>27671</td>\n",
       "      <td>16354</td>\n",
       "      <td>3254</td>\n",
       "      <td>0.0</td>\n",
       "      <td>0.0782</td>\n",
       "      <td>0.148</td>\n",
       "      <td>101.0</td>\n",
       "    </tr>\n",
       "    <tr>\n",
       "      <th>219</th>\n",
       "      <td>4.52</td>\n",
       "      <td>10.91</td>\n",
       "      <td>6.46</td>\n",
       "      <td>7.30</td>\n",
       "      <td>37125</td>\n",
       "      <td>22672</td>\n",
       "      <td>5949</td>\n",
       "      <td>745.0</td>\n",
       "      <td>5.7000</td>\n",
       "      <td>0.317</td>\n",
       "      <td>111.5</td>\n",
       "    </tr>\n",
       "  </tbody>\n",
       "</table>\n",
       "<p>220 rows × 11 columns</p>\n",
       "</div>"
      ],
      "text/plain": [
       "     o_thick  o_effb   o_av  ex_thick  ex_basem  ex_subbasem  sub_m      lc  \\\n",
       "0       5.01   13.87   9.99     10.34     18188        16128  13659   346.0   \n",
       "1       2.57   11.03   7.19      7.22     29108        13587  14313  1470.0   \n",
       "2       7.22    9.23   9.48      6.05     39303        19261  10854  1630.0   \n",
       "3       6.29   13.45   6.24      6.39     26516        10313  20115    22.2   \n",
       "4       3.81   13.14   8.33      6.72     30223        26441   8641  1720.0   \n",
       "..       ...     ...    ...       ...       ...          ...    ...     ...   \n",
       "215     3.08    8.39  11.98     11.17     39516        11447  24354  1870.0   \n",
       "216     2.25    7.14   6.02      9.89     34589        29069  19228  9530.0   \n",
       "217     4.31   11.52  11.76      6.14     36367        11760   6096  1360.0   \n",
       "218     7.10   13.26   5.97      8.69     27671        16354   3254     0.0   \n",
       "219     4.52   10.91   6.46      7.30     37125        22672   5949   745.0   \n",
       "\n",
       "          ac    rut    iri  \n",
       "0     0.0251  0.393  110.8  \n",
       "1     0.9760  0.430  112.8  \n",
       "2     4.2100  0.194  105.8  \n",
       "3     0.0370  0.263  105.6  \n",
       "4     5.5600  0.420  114.6  \n",
       "..       ...    ...    ...  \n",
       "215  28.9000  0.346  126.9  \n",
       "216  18.4000  0.546  126.7  \n",
       "217   0.2610  0.519  116.0  \n",
       "218   0.0782  0.148  101.0  \n",
       "219   5.7000  0.317  111.5  \n",
       "\n",
       "[220 rows x 11 columns]"
      ]
     },
     "execution_count": 15,
     "metadata": {},
     "output_type": "execute_result"
    }
   ],
   "source": [
    "df"
   ]
  },
  {
   "cell_type": "code",
   "execution_count": 16,
   "metadata": {
    "colab": {},
    "colab_type": "code",
    "id": "1yjv1W1LMl9U"
   },
   "outputs": [],
   "source": [
    "df = pd.concat([df,dummies],axis=1)"
   ]
  },
  {
   "cell_type": "code",
   "execution_count": 17,
   "metadata": {
    "colab": {
     "base_uri": "https://localhost:8080/",
     "height": 87
    },
    "colab_type": "code",
    "id": "VQU4rcc5MnR7",
    "outputId": "3787b254-7db7-491a-a1cf-6d4103028db1"
   },
   "outputs": [
    {
     "data": {
      "text/plain": [
       "Index(['o_thick', 'o_effb', 'o_av', 'ex_thick', 'ex_basem', 'ex_subbasem',\n",
       "       'sub_m', 'lc', 'ac', 'rut', 'iri', 'o_pg_PG 76-28', 'o_agg_Fine',\n",
       "       'ex_rating_Very  Poor', 'climate_Pellston'],\n",
       "      dtype='object')"
      ]
     },
     "execution_count": 17,
     "metadata": {},
     "output_type": "execute_result"
    }
   ],
   "source": [
    "df.columns"
   ]
  },
  {
   "cell_type": "markdown",
   "metadata": {
    "colab_type": "text",
    "id": "oyHYJd_Kvy7y"
   },
   "source": [
    "This is how our dataset looks like now:"
   ]
  },
  {
   "cell_type": "code",
   "execution_count": 18,
   "metadata": {
    "colab": {
     "base_uri": "https://localhost:8080/",
     "height": 453
    },
    "colab_type": "code",
    "id": "DBOrXqlSKTtR",
    "outputId": "f968642b-657e-4700-890e-856f27b8257d"
   },
   "outputs": [
    {
     "data": {
      "text/html": [
       "<div>\n",
       "<style scoped>\n",
       "    .dataframe tbody tr th:only-of-type {\n",
       "        vertical-align: middle;\n",
       "    }\n",
       "\n",
       "    .dataframe tbody tr th {\n",
       "        vertical-align: top;\n",
       "    }\n",
       "\n",
       "    .dataframe thead th {\n",
       "        text-align: right;\n",
       "    }\n",
       "</style>\n",
       "<table border=\"1\" class=\"dataframe\">\n",
       "  <thead>\n",
       "    <tr style=\"text-align: right;\">\n",
       "      <th></th>\n",
       "      <th>o_thick</th>\n",
       "      <th>o_effb</th>\n",
       "      <th>o_av</th>\n",
       "      <th>ex_thick</th>\n",
       "      <th>ex_basem</th>\n",
       "      <th>ex_subbasem</th>\n",
       "      <th>sub_m</th>\n",
       "      <th>lc</th>\n",
       "      <th>ac</th>\n",
       "      <th>rut</th>\n",
       "      <th>iri</th>\n",
       "      <th>o_pg_PG 76-28</th>\n",
       "      <th>o_agg_Fine</th>\n",
       "      <th>ex_rating_Very  Poor</th>\n",
       "      <th>climate_Pellston</th>\n",
       "    </tr>\n",
       "  </thead>\n",
       "  <tbody>\n",
       "    <tr>\n",
       "      <th>0</th>\n",
       "      <td>5.01</td>\n",
       "      <td>13.87</td>\n",
       "      <td>9.99</td>\n",
       "      <td>10.34</td>\n",
       "      <td>18188</td>\n",
       "      <td>16128</td>\n",
       "      <td>13659</td>\n",
       "      <td>346.0</td>\n",
       "      <td>0.0251</td>\n",
       "      <td>0.393</td>\n",
       "      <td>110.8</td>\n",
       "      <td>0</td>\n",
       "      <td>1</td>\n",
       "      <td>0</td>\n",
       "      <td>0</td>\n",
       "    </tr>\n",
       "    <tr>\n",
       "      <th>1</th>\n",
       "      <td>2.57</td>\n",
       "      <td>11.03</td>\n",
       "      <td>7.19</td>\n",
       "      <td>7.22</td>\n",
       "      <td>29108</td>\n",
       "      <td>13587</td>\n",
       "      <td>14313</td>\n",
       "      <td>1470.0</td>\n",
       "      <td>0.9760</td>\n",
       "      <td>0.430</td>\n",
       "      <td>112.8</td>\n",
       "      <td>1</td>\n",
       "      <td>0</td>\n",
       "      <td>0</td>\n",
       "      <td>0</td>\n",
       "    </tr>\n",
       "    <tr>\n",
       "      <th>2</th>\n",
       "      <td>7.22</td>\n",
       "      <td>9.23</td>\n",
       "      <td>9.48</td>\n",
       "      <td>6.05</td>\n",
       "      <td>39303</td>\n",
       "      <td>19261</td>\n",
       "      <td>10854</td>\n",
       "      <td>1630.0</td>\n",
       "      <td>4.2100</td>\n",
       "      <td>0.194</td>\n",
       "      <td>105.8</td>\n",
       "      <td>1</td>\n",
       "      <td>0</td>\n",
       "      <td>1</td>\n",
       "      <td>1</td>\n",
       "    </tr>\n",
       "    <tr>\n",
       "      <th>3</th>\n",
       "      <td>6.29</td>\n",
       "      <td>13.45</td>\n",
       "      <td>6.24</td>\n",
       "      <td>6.39</td>\n",
       "      <td>26516</td>\n",
       "      <td>10313</td>\n",
       "      <td>20115</td>\n",
       "      <td>22.2</td>\n",
       "      <td>0.0370</td>\n",
       "      <td>0.263</td>\n",
       "      <td>105.6</td>\n",
       "      <td>0</td>\n",
       "      <td>1</td>\n",
       "      <td>0</td>\n",
       "      <td>0</td>\n",
       "    </tr>\n",
       "    <tr>\n",
       "      <th>4</th>\n",
       "      <td>3.81</td>\n",
       "      <td>13.14</td>\n",
       "      <td>8.33</td>\n",
       "      <td>6.72</td>\n",
       "      <td>30223</td>\n",
       "      <td>26441</td>\n",
       "      <td>8641</td>\n",
       "      <td>1720.0</td>\n",
       "      <td>5.5600</td>\n",
       "      <td>0.420</td>\n",
       "      <td>114.6</td>\n",
       "      <td>0</td>\n",
       "      <td>0</td>\n",
       "      <td>1</td>\n",
       "      <td>0</td>\n",
       "    </tr>\n",
       "    <tr>\n",
       "      <th>...</th>\n",
       "      <td>...</td>\n",
       "      <td>...</td>\n",
       "      <td>...</td>\n",
       "      <td>...</td>\n",
       "      <td>...</td>\n",
       "      <td>...</td>\n",
       "      <td>...</td>\n",
       "      <td>...</td>\n",
       "      <td>...</td>\n",
       "      <td>...</td>\n",
       "      <td>...</td>\n",
       "      <td>...</td>\n",
       "      <td>...</td>\n",
       "      <td>...</td>\n",
       "      <td>...</td>\n",
       "    </tr>\n",
       "    <tr>\n",
       "      <th>215</th>\n",
       "      <td>3.08</td>\n",
       "      <td>8.39</td>\n",
       "      <td>11.98</td>\n",
       "      <td>11.17</td>\n",
       "      <td>39516</td>\n",
       "      <td>11447</td>\n",
       "      <td>24354</td>\n",
       "      <td>1870.0</td>\n",
       "      <td>28.9000</td>\n",
       "      <td>0.346</td>\n",
       "      <td>126.9</td>\n",
       "      <td>0</td>\n",
       "      <td>1</td>\n",
       "      <td>1</td>\n",
       "      <td>1</td>\n",
       "    </tr>\n",
       "    <tr>\n",
       "      <th>216</th>\n",
       "      <td>2.25</td>\n",
       "      <td>7.14</td>\n",
       "      <td>6.02</td>\n",
       "      <td>9.89</td>\n",
       "      <td>34589</td>\n",
       "      <td>29069</td>\n",
       "      <td>19228</td>\n",
       "      <td>9530.0</td>\n",
       "      <td>18.4000</td>\n",
       "      <td>0.546</td>\n",
       "      <td>126.7</td>\n",
       "      <td>0</td>\n",
       "      <td>1</td>\n",
       "      <td>1</td>\n",
       "      <td>0</td>\n",
       "    </tr>\n",
       "    <tr>\n",
       "      <th>217</th>\n",
       "      <td>4.31</td>\n",
       "      <td>11.52</td>\n",
       "      <td>11.76</td>\n",
       "      <td>6.14</td>\n",
       "      <td>36367</td>\n",
       "      <td>11760</td>\n",
       "      <td>6096</td>\n",
       "      <td>1360.0</td>\n",
       "      <td>0.2610</td>\n",
       "      <td>0.519</td>\n",
       "      <td>116.0</td>\n",
       "      <td>0</td>\n",
       "      <td>0</td>\n",
       "      <td>0</td>\n",
       "      <td>0</td>\n",
       "    </tr>\n",
       "    <tr>\n",
       "      <th>218</th>\n",
       "      <td>7.10</td>\n",
       "      <td>13.26</td>\n",
       "      <td>5.97</td>\n",
       "      <td>8.69</td>\n",
       "      <td>27671</td>\n",
       "      <td>16354</td>\n",
       "      <td>3254</td>\n",
       "      <td>0.0</td>\n",
       "      <td>0.0782</td>\n",
       "      <td>0.148</td>\n",
       "      <td>101.0</td>\n",
       "      <td>1</td>\n",
       "      <td>0</td>\n",
       "      <td>0</td>\n",
       "      <td>0</td>\n",
       "    </tr>\n",
       "    <tr>\n",
       "      <th>219</th>\n",
       "      <td>4.52</td>\n",
       "      <td>10.91</td>\n",
       "      <td>6.46</td>\n",
       "      <td>7.30</td>\n",
       "      <td>37125</td>\n",
       "      <td>22672</td>\n",
       "      <td>5949</td>\n",
       "      <td>745.0</td>\n",
       "      <td>5.7000</td>\n",
       "      <td>0.317</td>\n",
       "      <td>111.5</td>\n",
       "      <td>0</td>\n",
       "      <td>0</td>\n",
       "      <td>1</td>\n",
       "      <td>1</td>\n",
       "    </tr>\n",
       "  </tbody>\n",
       "</table>\n",
       "<p>220 rows × 15 columns</p>\n",
       "</div>"
      ],
      "text/plain": [
       "     o_thick  o_effb   o_av  ex_thick  ex_basem  ex_subbasem  sub_m      lc  \\\n",
       "0       5.01   13.87   9.99     10.34     18188        16128  13659   346.0   \n",
       "1       2.57   11.03   7.19      7.22     29108        13587  14313  1470.0   \n",
       "2       7.22    9.23   9.48      6.05     39303        19261  10854  1630.0   \n",
       "3       6.29   13.45   6.24      6.39     26516        10313  20115    22.2   \n",
       "4       3.81   13.14   8.33      6.72     30223        26441   8641  1720.0   \n",
       "..       ...     ...    ...       ...       ...          ...    ...     ...   \n",
       "215     3.08    8.39  11.98     11.17     39516        11447  24354  1870.0   \n",
       "216     2.25    7.14   6.02      9.89     34589        29069  19228  9530.0   \n",
       "217     4.31   11.52  11.76      6.14     36367        11760   6096  1360.0   \n",
       "218     7.10   13.26   5.97      8.69     27671        16354   3254     0.0   \n",
       "219     4.52   10.91   6.46      7.30     37125        22672   5949   745.0   \n",
       "\n",
       "          ac    rut    iri  o_pg_PG 76-28  o_agg_Fine  ex_rating_Very  Poor  \\\n",
       "0     0.0251  0.393  110.8              0           1                     0   \n",
       "1     0.9760  0.430  112.8              1           0                     0   \n",
       "2     4.2100  0.194  105.8              1           0                     1   \n",
       "3     0.0370  0.263  105.6              0           1                     0   \n",
       "4     5.5600  0.420  114.6              0           0                     1   \n",
       "..       ...    ...    ...            ...         ...                   ...   \n",
       "215  28.9000  0.346  126.9              0           1                     1   \n",
       "216  18.4000  0.546  126.7              0           1                     1   \n",
       "217   0.2610  0.519  116.0              0           0                     0   \n",
       "218   0.0782  0.148  101.0              1           0                     0   \n",
       "219   5.7000  0.317  111.5              0           0                     1   \n",
       "\n",
       "     climate_Pellston  \n",
       "0                   0  \n",
       "1                   0  \n",
       "2                   1  \n",
       "3                   0  \n",
       "4                   0  \n",
       "..                ...  \n",
       "215                 1  \n",
       "216                 0  \n",
       "217                 0  \n",
       "218                 0  \n",
       "219                 1  \n",
       "\n",
       "[220 rows x 15 columns]"
      ]
     },
     "execution_count": 18,
     "metadata": {},
     "output_type": "execute_result"
    }
   ],
   "source": [
    "df"
   ]
  },
  {
   "cell_type": "markdown",
   "metadata": {
    "colab_type": "text",
    "id": "-h5TdWBDv_KC"
   },
   "source": [
    "We need to apply a minor name change here:"
   ]
  },
  {
   "cell_type": "code",
   "execution_count": 19,
   "metadata": {
    "colab": {},
    "colab_type": "code",
    "id": "q41RpXxJMocJ"
   },
   "outputs": [],
   "source": [
    "df=df.rename(columns = {'o_pg_PG 76-28':'o_pg','o_agg_Fine':'o_agg','ex_rating_Very  Poor':'ex_rating','climate_Pellston':'climate' })"
   ]
  },
  {
   "cell_type": "code",
   "execution_count": 20,
   "metadata": {
    "colab": {
     "base_uri": "https://localhost:8080/",
     "height": 435
    },
    "colab_type": "code",
    "id": "CoSMdaVKNVyv",
    "outputId": "77f7037f-b0ca-4b24-f4b4-b8473daf267a"
   },
   "outputs": [
    {
     "data": {
      "text/html": [
       "<div>\n",
       "<style scoped>\n",
       "    .dataframe tbody tr th:only-of-type {\n",
       "        vertical-align: middle;\n",
       "    }\n",
       "\n",
       "    .dataframe tbody tr th {\n",
       "        vertical-align: top;\n",
       "    }\n",
       "\n",
       "    .dataframe thead th {\n",
       "        text-align: right;\n",
       "    }\n",
       "</style>\n",
       "<table border=\"1\" class=\"dataframe\">\n",
       "  <thead>\n",
       "    <tr style=\"text-align: right;\">\n",
       "      <th></th>\n",
       "      <th>o_thick</th>\n",
       "      <th>o_effb</th>\n",
       "      <th>o_av</th>\n",
       "      <th>ex_thick</th>\n",
       "      <th>ex_basem</th>\n",
       "      <th>ex_subbasem</th>\n",
       "      <th>sub_m</th>\n",
       "      <th>lc</th>\n",
       "      <th>ac</th>\n",
       "      <th>rut</th>\n",
       "      <th>iri</th>\n",
       "      <th>o_pg</th>\n",
       "      <th>o_agg</th>\n",
       "      <th>ex_rating</th>\n",
       "      <th>climate</th>\n",
       "    </tr>\n",
       "  </thead>\n",
       "  <tbody>\n",
       "    <tr>\n",
       "      <th>0</th>\n",
       "      <td>5.01</td>\n",
       "      <td>13.87</td>\n",
       "      <td>9.99</td>\n",
       "      <td>10.34</td>\n",
       "      <td>18188</td>\n",
       "      <td>16128</td>\n",
       "      <td>13659</td>\n",
       "      <td>346.0</td>\n",
       "      <td>0.0251</td>\n",
       "      <td>0.393</td>\n",
       "      <td>110.8</td>\n",
       "      <td>0</td>\n",
       "      <td>1</td>\n",
       "      <td>0</td>\n",
       "      <td>0</td>\n",
       "    </tr>\n",
       "    <tr>\n",
       "      <th>1</th>\n",
       "      <td>2.57</td>\n",
       "      <td>11.03</td>\n",
       "      <td>7.19</td>\n",
       "      <td>7.22</td>\n",
       "      <td>29108</td>\n",
       "      <td>13587</td>\n",
       "      <td>14313</td>\n",
       "      <td>1470.0</td>\n",
       "      <td>0.9760</td>\n",
       "      <td>0.430</td>\n",
       "      <td>112.8</td>\n",
       "      <td>1</td>\n",
       "      <td>0</td>\n",
       "      <td>0</td>\n",
       "      <td>0</td>\n",
       "    </tr>\n",
       "    <tr>\n",
       "      <th>2</th>\n",
       "      <td>7.22</td>\n",
       "      <td>9.23</td>\n",
       "      <td>9.48</td>\n",
       "      <td>6.05</td>\n",
       "      <td>39303</td>\n",
       "      <td>19261</td>\n",
       "      <td>10854</td>\n",
       "      <td>1630.0</td>\n",
       "      <td>4.2100</td>\n",
       "      <td>0.194</td>\n",
       "      <td>105.8</td>\n",
       "      <td>1</td>\n",
       "      <td>0</td>\n",
       "      <td>1</td>\n",
       "      <td>1</td>\n",
       "    </tr>\n",
       "    <tr>\n",
       "      <th>3</th>\n",
       "      <td>6.29</td>\n",
       "      <td>13.45</td>\n",
       "      <td>6.24</td>\n",
       "      <td>6.39</td>\n",
       "      <td>26516</td>\n",
       "      <td>10313</td>\n",
       "      <td>20115</td>\n",
       "      <td>22.2</td>\n",
       "      <td>0.0370</td>\n",
       "      <td>0.263</td>\n",
       "      <td>105.6</td>\n",
       "      <td>0</td>\n",
       "      <td>1</td>\n",
       "      <td>0</td>\n",
       "      <td>0</td>\n",
       "    </tr>\n",
       "    <tr>\n",
       "      <th>4</th>\n",
       "      <td>3.81</td>\n",
       "      <td>13.14</td>\n",
       "      <td>8.33</td>\n",
       "      <td>6.72</td>\n",
       "      <td>30223</td>\n",
       "      <td>26441</td>\n",
       "      <td>8641</td>\n",
       "      <td>1720.0</td>\n",
       "      <td>5.5600</td>\n",
       "      <td>0.420</td>\n",
       "      <td>114.6</td>\n",
       "      <td>0</td>\n",
       "      <td>0</td>\n",
       "      <td>1</td>\n",
       "      <td>0</td>\n",
       "    </tr>\n",
       "    <tr>\n",
       "      <th>...</th>\n",
       "      <td>...</td>\n",
       "      <td>...</td>\n",
       "      <td>...</td>\n",
       "      <td>...</td>\n",
       "      <td>...</td>\n",
       "      <td>...</td>\n",
       "      <td>...</td>\n",
       "      <td>...</td>\n",
       "      <td>...</td>\n",
       "      <td>...</td>\n",
       "      <td>...</td>\n",
       "      <td>...</td>\n",
       "      <td>...</td>\n",
       "      <td>...</td>\n",
       "      <td>...</td>\n",
       "    </tr>\n",
       "    <tr>\n",
       "      <th>215</th>\n",
       "      <td>3.08</td>\n",
       "      <td>8.39</td>\n",
       "      <td>11.98</td>\n",
       "      <td>11.17</td>\n",
       "      <td>39516</td>\n",
       "      <td>11447</td>\n",
       "      <td>24354</td>\n",
       "      <td>1870.0</td>\n",
       "      <td>28.9000</td>\n",
       "      <td>0.346</td>\n",
       "      <td>126.9</td>\n",
       "      <td>0</td>\n",
       "      <td>1</td>\n",
       "      <td>1</td>\n",
       "      <td>1</td>\n",
       "    </tr>\n",
       "    <tr>\n",
       "      <th>216</th>\n",
       "      <td>2.25</td>\n",
       "      <td>7.14</td>\n",
       "      <td>6.02</td>\n",
       "      <td>9.89</td>\n",
       "      <td>34589</td>\n",
       "      <td>29069</td>\n",
       "      <td>19228</td>\n",
       "      <td>9530.0</td>\n",
       "      <td>18.4000</td>\n",
       "      <td>0.546</td>\n",
       "      <td>126.7</td>\n",
       "      <td>0</td>\n",
       "      <td>1</td>\n",
       "      <td>1</td>\n",
       "      <td>0</td>\n",
       "    </tr>\n",
       "    <tr>\n",
       "      <th>217</th>\n",
       "      <td>4.31</td>\n",
       "      <td>11.52</td>\n",
       "      <td>11.76</td>\n",
       "      <td>6.14</td>\n",
       "      <td>36367</td>\n",
       "      <td>11760</td>\n",
       "      <td>6096</td>\n",
       "      <td>1360.0</td>\n",
       "      <td>0.2610</td>\n",
       "      <td>0.519</td>\n",
       "      <td>116.0</td>\n",
       "      <td>0</td>\n",
       "      <td>0</td>\n",
       "      <td>0</td>\n",
       "      <td>0</td>\n",
       "    </tr>\n",
       "    <tr>\n",
       "      <th>218</th>\n",
       "      <td>7.10</td>\n",
       "      <td>13.26</td>\n",
       "      <td>5.97</td>\n",
       "      <td>8.69</td>\n",
       "      <td>27671</td>\n",
       "      <td>16354</td>\n",
       "      <td>3254</td>\n",
       "      <td>0.0</td>\n",
       "      <td>0.0782</td>\n",
       "      <td>0.148</td>\n",
       "      <td>101.0</td>\n",
       "      <td>1</td>\n",
       "      <td>0</td>\n",
       "      <td>0</td>\n",
       "      <td>0</td>\n",
       "    </tr>\n",
       "    <tr>\n",
       "      <th>219</th>\n",
       "      <td>4.52</td>\n",
       "      <td>10.91</td>\n",
       "      <td>6.46</td>\n",
       "      <td>7.30</td>\n",
       "      <td>37125</td>\n",
       "      <td>22672</td>\n",
       "      <td>5949</td>\n",
       "      <td>745.0</td>\n",
       "      <td>5.7000</td>\n",
       "      <td>0.317</td>\n",
       "      <td>111.5</td>\n",
       "      <td>0</td>\n",
       "      <td>0</td>\n",
       "      <td>1</td>\n",
       "      <td>1</td>\n",
       "    </tr>\n",
       "  </tbody>\n",
       "</table>\n",
       "<p>220 rows × 15 columns</p>\n",
       "</div>"
      ],
      "text/plain": [
       "     o_thick  o_effb   o_av  ex_thick  ex_basem  ex_subbasem  sub_m      lc  \\\n",
       "0       5.01   13.87   9.99     10.34     18188        16128  13659   346.0   \n",
       "1       2.57   11.03   7.19      7.22     29108        13587  14313  1470.0   \n",
       "2       7.22    9.23   9.48      6.05     39303        19261  10854  1630.0   \n",
       "3       6.29   13.45   6.24      6.39     26516        10313  20115    22.2   \n",
       "4       3.81   13.14   8.33      6.72     30223        26441   8641  1720.0   \n",
       "..       ...     ...    ...       ...       ...          ...    ...     ...   \n",
       "215     3.08    8.39  11.98     11.17     39516        11447  24354  1870.0   \n",
       "216     2.25    7.14   6.02      9.89     34589        29069  19228  9530.0   \n",
       "217     4.31   11.52  11.76      6.14     36367        11760   6096  1360.0   \n",
       "218     7.10   13.26   5.97      8.69     27671        16354   3254     0.0   \n",
       "219     4.52   10.91   6.46      7.30     37125        22672   5949   745.0   \n",
       "\n",
       "          ac    rut    iri  o_pg  o_agg  ex_rating  climate  \n",
       "0     0.0251  0.393  110.8     0      1          0        0  \n",
       "1     0.9760  0.430  112.8     1      0          0        0  \n",
       "2     4.2100  0.194  105.8     1      0          1        1  \n",
       "3     0.0370  0.263  105.6     0      1          0        0  \n",
       "4     5.5600  0.420  114.6     0      0          1        0  \n",
       "..       ...    ...    ...   ...    ...        ...      ...  \n",
       "215  28.9000  0.346  126.9     0      1          1        1  \n",
       "216  18.4000  0.546  126.7     0      1          1        0  \n",
       "217   0.2610  0.519  116.0     0      0          0        0  \n",
       "218   0.0782  0.148  101.0     1      0          0        0  \n",
       "219   5.7000  0.317  111.5     0      0          1        1  \n",
       "\n",
       "[220 rows x 15 columns]"
      ]
     },
     "execution_count": 20,
     "metadata": {},
     "output_type": "execute_result"
    }
   ],
   "source": [
    "df"
   ]
  },
  {
   "cell_type": "markdown",
   "metadata": {},
   "source": [
    "## Data Modeling"
   ]
  },
  {
   "cell_type": "markdown",
   "metadata": {},
   "source": [
    "There are 4 different pavement responses: Rutting, Alligator cracking, Longitudinal cracking and IRI. Therefore, we would like to create four different models to predict each one of these pavement responses. We start by modeling rutting in pavement."
   ]
  },
  {
   "cell_type": "markdown",
   "metadata": {},
   "source": [
    "We modify our dataset to create X and y for modeling. X is the portion of dataset containing inputs, and y is the rest, containing pavement responses."
   ]
  },
  {
   "cell_type": "code",
   "execution_count": 7,
   "metadata": {},
   "outputs": [],
   "source": [
    "X = df.drop(['lc','ac','rut','iri'],axis=1)\n",
    "y_rut = df['rut']\n",
    "y_lc = df['lc']\n",
    "y_ac = df['ac']\n",
    "y_iri = df['iri']"
   ]
  },
  {
   "cell_type": "markdown",
   "metadata": {
    "colab_type": "text",
    "id": "e1QQacguLXjf"
   },
   "source": [
    "### Rutting Model"
   ]
  },
  {
   "cell_type": "markdown",
   "metadata": {
    "colab_type": "text",
    "id": "zLzaxpM3wiOk"
   },
   "source": [
    "From scikit-Learn we import train_test_split module to split our dataset into training and testing sets. We use 70% of our data for training and 30% for testing."
   ]
  },
  {
   "cell_type": "code",
   "execution_count": 22,
   "metadata": {
    "colab": {},
    "colab_type": "code",
    "id": "3Y55fYpJMxA9"
   },
   "outputs": [],
   "source": [
    "from sklearn.model_selection import train_test_split"
   ]
  },
  {
   "cell_type": "code",
   "execution_count": 23,
   "metadata": {
    "colab": {},
    "colab_type": "code",
    "id": "56JVs6gXM0MF"
   },
   "outputs": [],
   "source": [
    "X_train, X_test, y_train, y_test = train_test_split(X,y_rut,test_size=0.3)"
   ]
  },
  {
   "cell_type": "markdown",
   "metadata": {
    "colab_type": "text",
    "id": "s8YDOLCeM3Tk"
   },
   "source": [
    "#### Scaling"
   ]
  },
  {
   "cell_type": "markdown",
   "metadata": {
    "colab_type": "text",
    "id": "dE9LxeLZw34C"
   },
   "source": [
    "The inputs consist of variables with different orders of magnitude. Some inputs such as thickness vary from 2 to 8 while some other vary from 10,000 to 100,000. Thus it is essential to perform scaling on our inputs. We use MinMaxScale that transform features by scaling each feature to a given range.\n",
    "\n",
    "This estimator scales and translates each feature individually such that it is in the given range on the training set, e.g. between zero and one."
   ]
  },
  {
   "cell_type": "code",
   "execution_count": 24,
   "metadata": {
    "colab": {},
    "colab_type": "code",
    "id": "YOQmqa1hM3h-"
   },
   "outputs": [],
   "source": [
    "from sklearn.preprocessing import MinMaxScaler"
   ]
  },
  {
   "cell_type": "code",
   "execution_count": 25,
   "metadata": {
    "colab": {},
    "colab_type": "code",
    "id": "bb8G1h4AM57a"
   },
   "outputs": [],
   "source": [
    "scaler = MinMaxScaler()"
   ]
  },
  {
   "cell_type": "code",
   "execution_count": 26,
   "metadata": {
    "colab": {},
    "colab_type": "code",
    "id": "beRIleFEM7Xx"
   },
   "outputs": [],
   "source": [
    "X_train= scaler.fit_transform(X_train)"
   ]
  },
  {
   "cell_type": "code",
   "execution_count": 27,
   "metadata": {
    "colab": {},
    "colab_type": "code",
    "id": "9p-fMq8HM8dq"
   },
   "outputs": [],
   "source": [
    "X_test = scaler.transform(X_test)"
   ]
  },
  {
   "cell_type": "markdown",
   "metadata": {
    "colab_type": "text",
    "id": "ZYM1s9s3M_6r"
   },
   "source": [
    "#### Creating a Model"
   ]
  },
  {
   "cell_type": "markdown",
   "metadata": {
    "colab_type": "text",
    "id": "BdW6PzRgyNl2"
   },
   "source": [
    "Due to the extreme non-linear nature of pavement response models, we pick neural networks as our modeling technique. \n",
    "\n",
    "We use TensorFlow 2.0 and accompanying Keras package. Keras Sequential model which is a linear stack of layers seems like a good start for our modeling purpose. We also need to import Dense (which is just your regular densely-connected NN layer) and Activation that applies an activation function to an output. Finally we use Adam as an optimizer. \n",
    "\n",
    "*Note: Adam optimization is a stochastic gradient descent method that is based on adaptive estimation of first-order and second-order moments.*"
   ]
  },
  {
   "cell_type": "code",
   "execution_count": 28,
   "metadata": {
    "colab": {},
    "colab_type": "code",
    "id": "aj_q3ONmNAHM"
   },
   "outputs": [],
   "source": [
    "import tensorflow as tf"
   ]
  },
  {
   "cell_type": "code",
   "execution_count": 29,
   "metadata": {
    "colab": {},
    "colab_type": "code",
    "id": "oWRU2NiJNESB"
   },
   "outputs": [],
   "source": [
    "from tensorflow.keras.models import Sequential\n",
    "from tensorflow.keras.layers import Dense, Activation\n",
    "from tensorflow.keras.optimizers import Adam"
   ]
  },
  {
   "cell_type": "markdown",
   "metadata": {
    "colab_type": "text",
    "id": "6I8XQ2PCzw12"
   },
   "source": [
    "Our sequential model consists of 5 layers (first 4 being our hidden layers and last one being the output layer) using Rectified Linear Unit (ReLU) as activation function.\n",
    "\n",
    "In this model we are minimizing loss in terms of mean suqared error. The loss value that will be minimized by the model will then be the sum of all individual losses."
   ]
  },
  {
   "cell_type": "code",
   "execution_count": 30,
   "metadata": {
    "colab": {},
    "colab_type": "code",
    "id": "-rFHqk19NGt7"
   },
   "outputs": [],
   "source": [
    "model = Sequential()\n",
    "\n",
    "model.add(Dense(12,activation='relu'))\n",
    "model.add(Dense(12,activation='relu'))\n",
    "model.add(Dense(12,activation='relu'))\n",
    "model.add(Dense(12,activation='relu'))\n",
    "model.add(Dense(1))\n",
    "\n",
    "model.compile(optimizer='adam',loss='mse')"
   ]
  },
  {
   "cell_type": "markdown",
   "metadata": {
    "colab_type": "text",
    "id": "NdtJ-dgwOK-m"
   },
   "source": [
    "#### Training the Model"
   ]
  },
  {
   "cell_type": "markdown",
   "metadata": {
    "colab_type": "text",
    "id": "idd8nPFM0eUG"
   },
   "source": [
    "We are set to train our model. We perform training 400 times and measure loss over the course of training session. "
   ]
  },
  {
   "cell_type": "code",
   "execution_count": 31,
   "metadata": {
    "colab": {},
    "colab_type": "code",
    "id": "Kyia7aNeOLMV"
   },
   "outputs": [
    {
     "data": {
      "text/plain": [
       "<tensorflow.python.keras.callbacks.History at 0x1983042cfc8>"
      ]
     },
     "execution_count": 31,
     "metadata": {},
     "output_type": "execute_result"
    }
   ],
   "source": [
    "model.fit(x=X_train,y=y_train.values,\n",
    "          validation_data=(X_test,y_test.values),epochs=400, verbose = 0)"
   ]
  },
  {
   "cell_type": "code",
   "execution_count": 32,
   "metadata": {
    "colab": {},
    "colab_type": "code",
    "id": "y5MC8LQgOQDe"
   },
   "outputs": [],
   "source": [
    "losses = pd.DataFrame(model.history.history)"
   ]
  },
  {
   "cell_type": "markdown",
   "metadata": {
    "colab_type": "text",
    "id": "TT424y9N0w2U"
   },
   "source": [
    "In Figure below, loss vs. Epochs or training sessions is illustrated. There is a sharp decline of loss from 0.2 to 0.01 within the first 50 epochs for both training and validation sets. This is good news for us."
   ]
  },
  {
   "cell_type": "code",
   "execution_count": 33,
   "metadata": {
    "colab": {
     "base_uri": "https://localhost:8080/",
     "height": 283
    },
    "colab_type": "code",
    "id": "NeOVyLP3OVDq",
    "outputId": "133c911b-8865-4583-9043-b3998a7ae760"
   },
   "outputs": [
    {
     "data": {
      "text/plain": [
       "<matplotlib.axes._subplots.AxesSubplot at 0x1983188dec8>"
      ]
     },
     "execution_count": 33,
     "metadata": {},
     "output_type": "execute_result"
    },
    {
     "data": {
      "image/png": "[encoded data removed]",
      "text/plain": [
       "<Figure size 432x288 with 1 Axes>"
      ]
     },
     "metadata": {
      "needs_background": "light"
     },
     "output_type": "display_data"
    }
   ],
   "source": [
    "losses.plot()"
   ]
  },
  {
   "cell_type": "markdown",
   "metadata": {
    "colab_type": "text",
    "id": "bZHMMAFRObgm"
   },
   "source": [
    "#### Evaluation on Test Data"
   ]
  },
  {
   "cell_type": "markdown",
   "metadata": {
    "colab_type": "text",
    "id": "9iyMBt-21sOi"
   },
   "source": [
    "In order to evaluate our model, we perform predictions using our model on our test data set and measure 3 indicators: **mean squared error, mean absolute error and explained variance score.**"
   ]
  },
  {
   "cell_type": "code",
   "execution_count": 34,
   "metadata": {
    "colab": {},
    "colab_type": "code",
    "id": "kcI73nHmObrU"
   },
   "outputs": [],
   "source": [
    "from sklearn.metrics import mean_squared_error,mean_absolute_error,explained_variance_score"
   ]
  },
  {
   "cell_type": "code",
   "execution_count": 35,
   "metadata": {
    "colab": {},
    "colab_type": "code",
    "id": "Qhl4pBznOgiy"
   },
   "outputs": [],
   "source": [
    "predictions = model.predict(X_test)"
   ]
  },
  {
   "cell_type": "code",
   "execution_count": 36,
   "metadata": {
    "colab": {
     "base_uri": "https://localhost:8080/",
     "height": 35
    },
    "colab_type": "code",
    "id": "lcfrnXhtOivg",
    "outputId": "045fd68a-4a6a-4f78-a9c2-c591e01b262a"
   },
   "outputs": [
    {
     "data": {
      "text/plain": [
       "0.06930457943497283"
      ]
     },
     "execution_count": 36,
     "metadata": {},
     "output_type": "execute_result"
    }
   ],
   "source": [
    "mean_absolute_error(y_test,predictions)"
   ]
  },
  {
   "cell_type": "markdown",
   "metadata": {
    "colab_type": "text",
    "id": "IjImI0m22NRX"
   },
   "source": [
    "Mean absolute error for rutting model is 0.07. By looking at our dataset the mean rutting is 0.5. Therefore, the mean absolute error is at 14%.\n",
    "\n",
    "Next, we compute mean squared error and explained variance score. When we compare the R2 Score with the Explained Variance Score, we are basically checking the Mean Error; so if R2 = Explained Variance Score, that means: The Mean Error = Zero! ***This turns out to be the case for our model!***\n",
    "\n",
    "The Mean Error reflects the tendency of our estimator, that is: the Biased v.s Unbiased Estimation."
   ]
  },
  {
   "cell_type": "code",
   "execution_count": 37,
   "metadata": {
    "colab": {
     "base_uri": "https://localhost:8080/",
     "height": 35
    },
    "colab_type": "code",
    "id": "r56YAzRROj4Z",
    "outputId": "256be843-ceef-470c-b83e-cfbbb39c3ee5"
   },
   "outputs": [
    {
     "data": {
      "text/plain": [
       "0.11773929093437135"
      ]
     },
     "execution_count": 37,
     "metadata": {},
     "output_type": "execute_result"
    }
   ],
   "source": [
    "np.sqrt(mean_squared_error(y_test,predictions))"
   ]
  },
  {
   "cell_type": "code",
   "execution_count": 38,
   "metadata": {
    "colab": {
     "base_uri": "https://localhost:8080/",
     "height": 35
    },
    "colab_type": "code",
    "id": "ucZLh2UKOloj",
    "outputId": "f8967456-1cd3-44a4-c775-babe7d146ae0"
   },
   "outputs": [
    {
     "data": {
      "text/plain": [
       "0.5511732981081093"
      ]
     },
     "execution_count": 38,
     "metadata": {},
     "output_type": "execute_result"
    }
   ],
   "source": [
    "explained_variance_score(y_test,predictions)"
   ]
  },
  {
   "cell_type": "markdown",
   "metadata": {
    "colab_type": "text",
    "id": "vn6FRoMi3m9X"
   },
   "source": [
    "Moreover, we check how close our predictions are to Pavement-ME predictions. The red line is the equality line. Ideally we want all data points to fall on the red line. However, due to error of predictions there will be a spread."
   ]
  },
  {
   "cell_type": "code",
   "execution_count": 39,
   "metadata": {
    "colab": {
     "base_uri": "https://localhost:8080/",
     "height": 283
    },
    "colab_type": "code",
    "id": "elvkYmi6OnPi",
    "outputId": "ea851a12-7253-4f2a-96c0-276f29238b28"
   },
   "outputs": [
    {
     "data": {
      "text/plain": [
       "[<matplotlib.lines.Line2D at 0x198319d1c88>]"
      ]
     },
     "execution_count": 39,
     "metadata": {},
     "output_type": "execute_result"
    },
    {
     "data": {
      "image/png": "[encoded data removed]",
      "text/plain": [
       "<Figure size 432x288 with 1 Axes>"
      ]
     },
     "metadata": {
      "needs_background": "light"
     },
     "output_type": "display_data"
    }
   ],
   "source": [
    "plt.scatter(y_test,predictions)\n",
    "plt.plot(y_test,y_test,'r')"
   ]
  },
  {
   "cell_type": "code",
   "execution_count": 40,
   "metadata": {
    "colab": {},
    "colab_type": "code",
    "id": "XIazXhE2Orgl"
   },
   "outputs": [],
   "source": [
    "errors = y_test.values - predictions"
   ]
  },
  {
   "cell_type": "markdown",
   "metadata": {
    "colab_type": "text",
    "id": "Ma4WtVh24NW_"
   },
   "source": [
    "Finally, we plot the distribution of errors in prediction. Ideally we would like to see a sharp peak in the middle (at zero). However, due to the error in the prediction there is a band with most of the error hovering around zero."
   ]
  },
  {
   "cell_type": "code",
   "execution_count": 41,
   "metadata": {
    "colab": {
     "base_uri": "https://localhost:8080/",
     "height": 283
    },
    "colab_type": "code",
    "id": "JcnGXzCaOw97",
    "outputId": "f54c9b44-45e0-4248-bd32-c39bc122944c"
   },
   "outputs": [
    {
     "data": {
      "text/plain": [
       "<matplotlib.axes._subplots.AxesSubplot at 0x19831972f08>"
      ]
     },
     "execution_count": 41,
     "metadata": {},
     "output_type": "execute_result"
    },
    {
     "data": {
      "image/png": "[encoded data removed]",
      "text/plain": [
       "<Figure size 432x288 with 1 Axes>"
      ]
     },
     "metadata": {
      "needs_background": "light"
     },
     "output_type": "display_data"
    }
   ],
   "source": [
    " sns.distplot(errors)"
   ]
  },
  {
   "cell_type": "markdown",
   "metadata": {
    "colab_type": "text",
    "id": "7opGDow8OE3n"
   },
   "source": [
    "### IRI Model"
   ]
  },
  {
   "cell_type": "markdown",
   "metadata": {
    "colab_type": "text",
    "id": "zwMUIB-4MuL_"
   },
   "source": [
    "We follow the same procedure to split our data set for training and testing, use scaling on X, sequential model with adam optimizer as the model. "
   ]
  },
  {
   "cell_type": "code",
   "execution_count": 42,
   "metadata": {
    "colab": {},
    "colab_type": "code",
    "id": "0vDhTBxFOHvO"
   },
   "outputs": [],
   "source": [
    "X_train, X_test, y_train, y_test = train_test_split(X,y_iri,test_size=0.3)"
   ]
  },
  {
   "cell_type": "markdown",
   "metadata": {
    "colab_type": "text",
    "id": "I411bJ-dPI7M"
   },
   "source": [
    "#### Scaling"
   ]
  },
  {
   "cell_type": "code",
   "execution_count": 43,
   "metadata": {
    "colab": {},
    "colab_type": "code",
    "id": "bmrGOci5OPjy"
   },
   "outputs": [],
   "source": [
    "X_train= scaler.fit_transform(X_train)\n",
    "X_test = scaler.transform(X_test)"
   ]
  },
  {
   "cell_type": "markdown",
   "metadata": {
    "colab_type": "text",
    "id": "D3T1fcd1PNT-"
   },
   "source": [
    "#### Training the Model"
   ]
  },
  {
   "cell_type": "markdown",
   "metadata": {
    "colab_type": "text",
    "id": "Kw1_KRokNMlN"
   },
   "source": [
    "150 epochs seem enough to achieve the minimum possible loss."
   ]
  },
  {
   "cell_type": "code",
   "execution_count": 44,
   "metadata": {
    "colab": {},
    "colab_type": "code",
    "id": "PepsyE3lOWt5"
   },
   "outputs": [
    {
     "data": {
      "text/plain": [
       "<tensorflow.python.keras.callbacks.History at 0x19830381d48>"
      ]
     },
     "execution_count": 44,
     "metadata": {},
     "output_type": "execute_result"
    }
   ],
   "source": [
    "model.fit(x=X_train,y=y_train.values,\n",
    "          validation_data=(X_test,y_test.values),epochs=150, verbose = 0)"
   ]
  },
  {
   "cell_type": "code",
   "execution_count": 45,
   "metadata": {
    "colab": {
     "base_uri": "https://localhost:8080/",
     "height": 283
    },
    "colab_type": "code",
    "id": "JNlERbnpObXE",
    "outputId": "34c508da-2e58-4b1c-f748-055f6deed380"
   },
   "outputs": [
    {
     "data": {
      "text/plain": [
       "<matplotlib.axes._subplots.AxesSubplot at 0x19831d32d88>"
      ]
     },
     "execution_count": 45,
     "metadata": {},
     "output_type": "execute_result"
    },
    {
     "data": {
      "image/png": "[encoded data removed]",
      "text/plain": [
       "<Figure size 432x288 with 1 Axes>"
      ]
     },
     "metadata": {
      "needs_background": "light"
     },
     "output_type": "display_data"
    }
   ],
   "source": [
    "losses = pd.DataFrame(model.history.history)\n",
    "losses.plot()"
   ]
  },
  {
   "cell_type": "markdown",
   "metadata": {
    "colab_type": "text",
    "id": "RD_FVwE5NYkR"
   },
   "source": [
    "Loss drop by a factor of 10, from initial values of 12000 to 1200. Training loss and validation loss plateaus out at around the same value. "
   ]
  },
  {
   "cell_type": "markdown",
   "metadata": {
    "colab_type": "text",
    "id": "QPy9DtMHOqK2"
   },
   "source": [
    "####Evaluation on Test Data"
   ]
  },
  {
   "cell_type": "code",
   "execution_count": 46,
   "metadata": {
    "colab": {
     "base_uri": "https://localhost:8080/",
     "height": 35
    },
    "colab_type": "code",
    "id": "AYCDb5nXOvN-",
    "outputId": "675df5f4-9273-48dc-98ea-90e3825850c7"
   },
   "outputs": [
    {
     "data": {
      "text/plain": [
       "10.469686727812794"
      ]
     },
     "execution_count": 46,
     "metadata": {},
     "output_type": "execute_result"
    }
   ],
   "source": [
    "predictions = model.predict(X_test)\n",
    "mean_absolute_error(y_test,predictions)"
   ]
  },
  {
   "cell_type": "markdown",
   "metadata": {
    "colab_type": "text",
    "id": "z8FERWBWOF8p"
   },
   "source": [
    "The average observed IRI is 112. The absolute mean error for the model is ~10 which is less than 9% of the mean observed IRI. "
   ]
  },
  {
   "cell_type": "code",
   "execution_count": 47,
   "metadata": {
    "colab": {
     "base_uri": "https://localhost:8080/",
     "height": 35
    },
    "colab_type": "code",
    "id": "EhwpRSG7Oy_I",
    "outputId": "58881c56-5dfd-47c8-b9a8-b3fe64774d8e"
   },
   "outputs": [
    {
     "data": {
      "text/plain": [
       "14.773780234840382"
      ]
     },
     "execution_count": 47,
     "metadata": {},
     "output_type": "execute_result"
    }
   ],
   "source": [
    "np.sqrt(mean_squared_error(y_test,predictions))"
   ]
  },
  {
   "cell_type": "code",
   "execution_count": 48,
   "metadata": {
    "colab": {
     "base_uri": "https://localhost:8080/",
     "height": 35
    },
    "colab_type": "code",
    "id": "Bq_M6qQNO2LW",
    "outputId": "72340410-9647-43e5-c519-e312aadbad0a"
   },
   "outputs": [
    {
     "data": {
      "text/plain": [
       "-0.13176791875053429"
      ]
     },
     "execution_count": 48,
     "metadata": {},
     "output_type": "execute_result"
    }
   ],
   "source": [
    "explained_variance_score(y_test,predictions)"
   ]
  },
  {
   "cell_type": "markdown",
   "metadata": {
    "colab_type": "text",
    "id": "RnyKoiMMOcIk"
   },
   "source": [
    "The explained variance is returned as -0.13. It is not that uncommon to get negative variance. The solution is either to simplify model or get more data. A look at the prediction and observation indicate a decent fit between them. Therefore, the next step of the research should be getting more data for IRI."
   ]
  },
  {
   "cell_type": "code",
   "execution_count": 49,
   "metadata": {
    "colab": {
     "base_uri": "https://localhost:8080/",
     "height": 283
    },
    "colab_type": "code",
    "id": "7DnDzN9aO4qx",
    "outputId": "63eab824-bfaa-4077-998e-c44b4ed91979"
   },
   "outputs": [
    {
     "data": {
      "text/plain": [
       "[<matplotlib.lines.Line2D at 0x19831d7be08>]"
      ]
     },
     "execution_count": 49,
     "metadata": {},
     "output_type": "execute_result"
    },
    {
     "data": {
      "image/png": "[encoded data removed]",
      "text/plain": [
       "<Figure size 432x288 with 1 Axes>"
      ]
     },
     "metadata": {
      "needs_background": "light"
     },
     "output_type": "display_data"
    }
   ],
   "source": [
    "plt.scatter(y_test,predictions)\n",
    "plt.plot(y_test,y_test,'r')"
   ]
  },
  {
   "cell_type": "code",
   "execution_count": 50,
   "metadata": {
    "colab": {
     "base_uri": "https://localhost:8080/",
     "height": 283
    },
    "colab_type": "code",
    "id": "HbOMsST_O7l0",
    "outputId": "183c7b37-124f-476d-ed9d-774703a3e3e1"
   },
   "outputs": [
    {
     "data": {
      "text/plain": [
       "<matplotlib.axes._subplots.AxesSubplot at 0x19831a7d888>"
      ]
     },
     "execution_count": 50,
     "metadata": {},
     "output_type": "execute_result"
    },
    {
     "data": {
      "image/png": "[encoded data removed]",
      "text/plain": [
       "<Figure size 432x288 with 1 Axes>"
      ]
     },
     "metadata": {
      "needs_background": "light"
     },
     "output_type": "display_data"
    }
   ],
   "source": [
    "errors = y_test.values - predictions\n",
    "sns.distplot(errors)"
   ]
  },
  {
   "cell_type": "markdown",
   "metadata": {
    "colab_type": "text",
    "id": "Zk_BHs6iPxgp"
   },
   "source": [
    "Furthermore, the model does a good job in prediction error with an average error close to zero and a relatively narrow band."
   ]
  },
  {
   "cell_type": "markdown",
   "metadata": {
    "colab_type": "text",
    "id": "xIwvE6yBPTxP"
   },
   "source": [
    "### Longitudinal Crackong Model"
   ]
  },
  {
   "cell_type": "code",
   "execution_count": 51,
   "metadata": {
    "colab": {},
    "colab_type": "code",
    "id": "LyJSyFJNPW08"
   },
   "outputs": [],
   "source": [
    "X_train, X_test, y_train, y_test = train_test_split(X,y_lc,test_size=0.3)"
   ]
  },
  {
   "cell_type": "markdown",
   "metadata": {
    "colab_type": "text",
    "id": "qUJCjm9qPfU1"
   },
   "source": [
    "#### Scaling"
   ]
  },
  {
   "cell_type": "code",
   "execution_count": 52,
   "metadata": {
    "colab": {},
    "colab_type": "code",
    "id": "N-kHrvI7Pg51"
   },
   "outputs": [],
   "source": [
    "X_train= scaler.fit_transform(X_train)\n",
    "X_test = scaler.transform(X_test)"
   ]
  },
  {
   "cell_type": "markdown",
   "metadata": {
    "colab_type": "text",
    "id": "7h0RFH1PPkyK"
   },
   "source": [
    "#### Training the Model"
   ]
  },
  {
   "cell_type": "markdown",
   "metadata": {
    "colab_type": "text",
    "id": "kpb_6IVsQl1w"
   },
   "source": [
    "We stick to our established procedure for creating a model for longitudinal cracking. "
   ]
  },
  {
   "cell_type": "code",
   "execution_count": 53,
   "metadata": {
    "colab": {},
    "colab_type": "code",
    "id": "fUTkG7QhPmLV"
   },
   "outputs": [
    {
     "data": {
      "text/plain": [
       "<tensorflow.python.keras.callbacks.History at 0x19832ead448>"
      ]
     },
     "execution_count": 53,
     "metadata": {},
     "output_type": "execute_result"
    }
   ],
   "source": [
    "model.fit(x=X_train,y=y_train.values,\n",
    "          validation_data=(X_test,y_test.values),epochs=400, verbose = 0)"
   ]
  },
  {
   "cell_type": "code",
   "execution_count": 54,
   "metadata": {
    "colab": {
     "base_uri": "https://localhost:8080/",
     "height": 293
    },
    "colab_type": "code",
    "id": "DSP43gIgPmjy",
    "outputId": "ff46847f-c51c-4fe6-a4f5-52334a9bd05d"
   },
   "outputs": [
    {
     "data": {
      "text/plain": [
       "<matplotlib.axes._subplots.AxesSubplot at 0x19832f03988>"
      ]
     },
     "execution_count": 54,
     "metadata": {},
     "output_type": "execute_result"
    },
    {
     "data": {
      "image/png": "[encoded data removed]",
      "text/plain": [
       "<Figure size 432x288 with 1 Axes>"
      ]
     },
     "metadata": {
      "needs_background": "light"
     },
     "output_type": "display_data"
    }
   ],
   "source": [
    "losses = pd.DataFrame(model.history.history)\n",
    "losses.plot()"
   ]
  },
  {
   "cell_type": "markdown",
   "metadata": {
    "colab_type": "text",
    "id": "icl1MF1KPzQO"
   },
   "source": [
    "#### Evaluation on Test Data"
   ]
  },
  {
   "cell_type": "code",
   "execution_count": 55,
   "metadata": {
    "colab": {
     "base_uri": "https://localhost:8080/",
     "height": 35
    },
    "colab_type": "code",
    "id": "4v0s12ScP06R",
    "outputId": "f5fa27bc-0939-4345-c46c-89ae562c7305"
   },
   "outputs": [
    {
     "data": {
      "text/plain": [
       "965.4469926198324"
      ]
     },
     "execution_count": 55,
     "metadata": {},
     "output_type": "execute_result"
    }
   ],
   "source": [
    "predictions = model.predict(X_test)\n",
    "mean_absolute_error(y_test,predictions)"
   ]
  },
  {
   "cell_type": "markdown",
   "metadata": {
    "colab_type": "text",
    "id": "5BvkLvPKYzUo"
   },
   "source": [
    "The model mean absolute error is ~965 which compared to mean value of observations (2350) is relatively high. The error rate is at 40%"
   ]
  },
  {
   "cell_type": "code",
   "execution_count": 56,
   "metadata": {
    "colab": {
     "base_uri": "https://localhost:8080/",
     "height": 35
    },
    "colab_type": "code",
    "id": "JOxHhwYsP1bH",
    "outputId": "c13be456-143d-42e8-adbe-8276360c095a"
   },
   "outputs": [
    {
     "data": {
      "text/plain": [
       "1641.8161199672963"
      ]
     },
     "execution_count": 56,
     "metadata": {},
     "output_type": "execute_result"
    }
   ],
   "source": [
    "np.sqrt(mean_squared_error(y_test,predictions))"
   ]
  },
  {
   "cell_type": "markdown",
   "metadata": {
    "colab_type": "text",
    "id": "X7BddWuZZAIW"
   },
   "source": [
    "Large MSE also confirms the massive error in predictions.  "
   ]
  },
  {
   "cell_type": "code",
   "execution_count": 57,
   "metadata": {
    "colab": {
     "base_uri": "https://localhost:8080/",
     "height": 35
    },
    "colab_type": "code",
    "id": "5fiF6jCEP4kl",
    "outputId": "8f39584c-26b3-48a9-a6c6-64560e9a7335"
   },
   "outputs": [
    {
     "data": {
      "text/plain": [
       "0.7605858320223533"
      ]
     },
     "execution_count": 57,
     "metadata": {},
     "output_type": "execute_result"
    }
   ],
   "source": [
    "explained_variance_score(y_test,predictions)"
   ]
  },
  {
   "cell_type": "markdown",
   "metadata": {
    "colab_type": "text",
    "id": "B_OpJHsnZISu"
   },
   "source": [
    "However, explained variance indicates the model does a relatively good job in predicting the trends in data as shown by the figure below as well. "
   ]
  },
  {
   "cell_type": "code",
   "execution_count": 58,
   "metadata": {
    "colab": {
     "base_uri": "https://localhost:8080/",
     "height": 283
    },
    "colab_type": "code",
    "id": "iLLXfB61P7hI",
    "outputId": "75ba3e0e-71bc-4bf5-b395-b4bc51eab359"
   },
   "outputs": [
    {
     "data": {
      "text/plain": [
       "[<matplotlib.lines.Line2D at 0x19832fe4208>]"
      ]
     },
     "execution_count": 58,
     "metadata": {},
     "output_type": "execute_result"
    },
    {
     "data": {
      "image/png": "[encoded data removed]",
      "text/plain": [
       "<Figure size 432x288 with 1 Axes>"
      ]
     },
     "metadata": {
      "needs_background": "light"
     },
     "output_type": "display_data"
    }
   ],
   "source": [
    "plt.scatter(y_test,predictions)\n",
    "plt.plot(y_test,y_test,'r')"
   ]
  },
  {
   "cell_type": "code",
   "execution_count": 59,
   "metadata": {
    "colab": {
     "base_uri": "https://localhost:8080/",
     "height": 283
    },
    "colab_type": "code",
    "id": "EJUynZdHP9Tj",
    "outputId": "ea1e8182-33b4-49dd-ea4d-dc6b0cc03097"
   },
   "outputs": [
    {
     "data": {
      "text/plain": [
       "<matplotlib.axes._subplots.AxesSubplot at 0x19832fc9d08>"
      ]
     },
     "execution_count": 59,
     "metadata": {},
     "output_type": "execute_result"
    },
    {
     "data": {
      "image/png": "[encoded data removed]",
      "text/plain": [
       "<Figure size 432x288 with 1 Axes>"
      ]
     },
     "metadata": {
      "needs_background": "light"
     },
     "output_type": "display_data"
    }
   ],
   "source": [
    "errors = y_test.values - predictions\n",
    "sns.distplot(errors)"
   ]
  },
  {
   "cell_type": "markdown",
   "metadata": {
    "colab_type": "text",
    "id": "5ENeKM0hZZZ_"
   },
   "source": [
    "The problem with longitudinal cracking is the abundance of zero or near-zero observation. One way to take care of skewed data is Box-Cox scaling. However, box-cox works with positive values strictly. So we go with the alternative, Yeo-Johnson algorithm."
   ]
  },
  {
   "cell_type": "code",
   "execution_count": 60,
   "metadata": {
    "colab": {},
    "colab_type": "code",
    "id": "wYxZLHO5S2b1"
   },
   "outputs": [],
   "source": [
    "from sklearn.preprocessing import PowerTransformer"
   ]
  },
  {
   "cell_type": "code",
   "execution_count": 61,
   "metadata": {
    "colab": {},
    "colab_type": "code",
    "id": "MSS22NIwTUA6"
   },
   "outputs": [],
   "source": [
    "pscaler = PowerTransformer(method='yeo-johnson',standardize=True, copy=True)"
   ]
  },
  {
   "cell_type": "code",
   "execution_count": 62,
   "metadata": {
    "colab": {},
    "colab_type": "code",
    "id": "mLbpM4wcToDA"
   },
   "outputs": [],
   "source": [
    "X_train = pscaler.fit_transform(X_train)\n",
    "X_test = pscaler.transform(X_test)"
   ]
  },
  {
   "cell_type": "code",
   "execution_count": 63,
   "metadata": {
    "colab": {},
    "colab_type": "code",
    "id": "5N7uRxyUUlMz"
   },
   "outputs": [
    {
     "data": {
      "text/plain": [
       "<tensorflow.python.keras.callbacks.History at 0x19831dbdbc8>"
      ]
     },
     "execution_count": 63,
     "metadata": {},
     "output_type": "execute_result"
    }
   ],
   "source": [
    "model.fit(x=X_train,y=y_train.values,\n",
    "          validation_data=(X_test,y_test.values),epochs=200, verbose = 0)"
   ]
  },
  {
   "cell_type": "code",
   "execution_count": 64,
   "metadata": {
    "colab": {
     "base_uri": "https://localhost:8080/",
     "height": 293
    },
    "colab_type": "code",
    "id": "HfUB4zBkU2Il",
    "outputId": "2541e1f1-eb7c-4f07-eb7e-d6af9fe32ec9"
   },
   "outputs": [
    {
     "data": {
      "text/plain": [
       "<matplotlib.axes._subplots.AxesSubplot at 0x19833181908>"
      ]
     },
     "execution_count": 64,
     "metadata": {},
     "output_type": "execute_result"
    },
    {
     "data": {
      "image/png": "[encoded data removed]",
      "text/plain": [
       "<Figure size 432x288 with 1 Axes>"
      ]
     },
     "metadata": {
      "needs_background": "light"
     },
     "output_type": "display_data"
    }
   ],
   "source": [
    "losses = pd.DataFrame(model.history.history)\n",
    "losses.plot()"
   ]
  },
  {
   "cell_type": "code",
   "execution_count": 65,
   "metadata": {
    "colab": {
     "base_uri": "https://localhost:8080/",
     "height": 35
    },
    "colab_type": "code",
    "id": "AkY5mtdxU9Cb",
    "outputId": "2d1d9a70-ba16-41cb-aa2d-686e5bf222d7"
   },
   "outputs": [
    {
     "data": {
      "text/plain": [
       "1086.3776929404519"
      ]
     },
     "execution_count": 65,
     "metadata": {},
     "output_type": "execute_result"
    }
   ],
   "source": [
    "predictions = model.predict(X_test)\n",
    "mean_absolute_error(y_test,predictions)"
   ]
  },
  {
   "cell_type": "markdown",
   "metadata": {
    "colab_type": "text",
    "id": "V_9L4IS4Z24K"
   },
   "source": [
    "As observed by the calculated errors and explained variance, the problem with longitudinal cracking persists. The last options for use would be increasing the sample size and gathering more data. "
   ]
  },
  {
   "cell_type": "code",
   "execution_count": 66,
   "metadata": {
    "colab": {
     "base_uri": "https://localhost:8080/",
     "height": 35
    },
    "colab_type": "code",
    "id": "PidluJajVQ0Z",
    "outputId": "c5b2e77c-39ea-436b-d2d9-86c91273b222"
   },
   "outputs": [
    {
     "data": {
      "text/plain": [
       "1689.5723184126762"
      ]
     },
     "execution_count": 66,
     "metadata": {},
     "output_type": "execute_result"
    }
   ],
   "source": [
    "np.sqrt(mean_squared_error(y_test,predictions))"
   ]
  },
  {
   "cell_type": "code",
   "execution_count": 67,
   "metadata": {
    "colab": {
     "base_uri": "https://localhost:8080/",
     "height": 35
    },
    "colab_type": "code",
    "id": "vren6A6UVU9z",
    "outputId": "19cf8fef-67de-4231-e1b2-e2b4369bb082"
   },
   "outputs": [
    {
     "data": {
      "text/plain": [
       "0.7469733694565732"
      ]
     },
     "execution_count": 67,
     "metadata": {},
     "output_type": "execute_result"
    }
   ],
   "source": [
    "explained_variance_score(y_test,predictions)"
   ]
  },
  {
   "cell_type": "code",
   "execution_count": 68,
   "metadata": {
    "colab": {
     "base_uri": "https://localhost:8080/",
     "height": 283
    },
    "colab_type": "code",
    "id": "ZKXe-oJMVWCj",
    "outputId": "ed372d71-5043-40a6-92a0-6b47c77e57c0"
   },
   "outputs": [
    {
     "data": {
      "text/plain": [
       "[<matplotlib.lines.Line2D at 0x19832eeb508>]"
      ]
     },
     "execution_count": 68,
     "metadata": {},
     "output_type": "execute_result"
    },
    {
     "data": {
      "image/png": "[encoded data removed]",
      "text/plain": [
       "<Figure size 432x288 with 1 Axes>"
      ]
     },
     "metadata": {
      "needs_background": "light"
     },
     "output_type": "display_data"
    }
   ],
   "source": [
    "plt.scatter(y_test,predictions)\n",
    "plt.plot(y_test,y_test,'r')"
   ]
  },
  {
   "cell_type": "code",
   "execution_count": 69,
   "metadata": {
    "colab": {
     "base_uri": "https://localhost:8080/",
     "height": 283
    },
    "colab_type": "code",
    "id": "ieNBPG8EVkky",
    "outputId": "2edcb6cc-63d6-48ff-83ff-18eeab0aad25"
   },
   "outputs": [
    {
     "data": {
      "text/plain": [
       "<matplotlib.axes._subplots.AxesSubplot at 0x1983302eec8>"
      ]
     },
     "execution_count": 69,
     "metadata": {},
     "output_type": "execute_result"
    },
    {
     "data": {
      "image/png": "[encoded data removed]",
      "text/plain": [
       "<Figure size 432x288 with 1 Axes>"
      ]
     },
     "metadata": {
      "needs_background": "light"
     },
     "output_type": "display_data"
    }
   ],
   "source": [
    "errors = y_test.values - predictions\n",
    "sns.distplot(errors)"
   ]
  },
  {
   "cell_type": "markdown",
   "metadata": {
    "colab_type": "text",
    "id": "ubUqA9JPQH8T"
   },
   "source": [
    "### Alligator Cracking"
   ]
  },
  {
   "cell_type": "markdown",
   "metadata": {
    "colab_type": "text",
    "id": "wylZCmf3aVCR"
   },
   "source": [
    "We follow the same procedure for alligator cracking as longitudinal cracking. First we scale our data using MinMaxScaler. Then we apply Yeo-Johnson algorithm."
   ]
  },
  {
   "cell_type": "code",
   "execution_count": 70,
   "metadata": {
    "colab": {},
    "colab_type": "code",
    "id": "DBoQ-LZbQLEl"
   },
   "outputs": [],
   "source": [
    "X_train, X_test, y_train, y_test = train_test_split(X,y_ac,test_size=0.3)"
   ]
  },
  {
   "cell_type": "markdown",
   "metadata": {
    "colab_type": "text",
    "id": "bneqg110QV3a"
   },
   "source": [
    "#### Scaling"
   ]
  },
  {
   "cell_type": "code",
   "execution_count": 71,
   "metadata": {
    "colab": {},
    "colab_type": "code",
    "id": "58PB8uOLQXY8"
   },
   "outputs": [],
   "source": [
    "X_train= scaler.fit_transform(X_train)\n",
    "X_test = scaler.transform(X_test)"
   ]
  },
  {
   "cell_type": "markdown",
   "metadata": {
    "colab_type": "text",
    "id": "NnNF6XOUQdCZ"
   },
   "source": [
    "#### Training the Model"
   ]
  },
  {
   "cell_type": "code",
   "execution_count": 72,
   "metadata": {
    "colab": {},
    "colab_type": "code",
    "id": "q9IfTTnxQehO"
   },
   "outputs": [
    {
     "data": {
      "text/plain": [
       "<tensorflow.python.keras.callbacks.History at 0x19833247e88>"
      ]
     },
     "execution_count": 72,
     "metadata": {},
     "output_type": "execute_result"
    }
   ],
   "source": [
    "model.fit(x=X_train,y=y_train.values,\n",
    "          validation_data=(X_test,y_test.values),epochs=200, verbose = 0)"
   ]
  },
  {
   "cell_type": "code",
   "execution_count": 73,
   "metadata": {
    "colab": {
     "base_uri": "https://localhost:8080/",
     "height": 293
    },
    "colab_type": "code",
    "id": "VcD_nK15Qfk6",
    "outputId": "4c6925ae-27f1-4b06-9c18-da555c2d5cd5"
   },
   "outputs": [
    {
     "data": {
      "text/plain": [
       "<matplotlib.axes._subplots.AxesSubplot at 0x19833301748>"
      ]
     },
     "execution_count": 73,
     "metadata": {},
     "output_type": "execute_result"
    },
    {
     "data": {
      "image/png": "[encoded data removed]",
      "text/plain": [
       "<Figure size 432x288 with 1 Axes>"
      ]
     },
     "metadata": {
      "needs_background": "light"
     },
     "output_type": "display_data"
    }
   ],
   "source": [
    "losses = pd.DataFrame(model.history.history)\n",
    "losses.plot()"
   ]
  },
  {
   "cell_type": "markdown",
   "metadata": {
    "colab_type": "text",
    "id": "xYTn5_vSQvnp"
   },
   "source": [
    "#### Evaluation on Test Data"
   ]
  },
  {
   "cell_type": "markdown",
   "metadata": {
    "colab_type": "text",
    "id": "OqqEaPo1aq2r"
   },
   "source": [
    "Whether using MinMaxScaler or Yeo-Johnson algorithm the predictions are poor. In this case the explained variance is very poor too. Looking at alligator cracking data we find out the number of \"0\" cracking observations are even more prevalent. Therefore model is working with only a handful of non-zero values for prediction. Therefore, it is imperative to collect a larger pool of data to make modeling possible."
   ]
  },
  {
   "cell_type": "code",
   "execution_count": 74,
   "metadata": {
    "colab": {
     "base_uri": "https://localhost:8080/",
     "height": 35
    },
    "colab_type": "code",
    "format": "column",
    "id": "sYuQ56JyQylF",
    "outputId": "54f01a46-181e-4ce0-822c-159be1cccd58"
   },
   "outputs": [
    {
     "data": {
      "text/plain": [
       "34.20084266426203"
      ]
     },
     "execution_count": 74,
     "metadata": {},
     "output_type": "execute_result"
    }
   ],
   "source": [
    "predictions = model.predict(X_test)\n",
    "mean_absolute_error(y_test,predictions)"
   ]
  },
  {
   "cell_type": "code",
   "execution_count": 75,
   "metadata": {
    "colab": {
     "base_uri": "https://localhost:8080/",
     "height": 35
    },
    "colab_type": "code",
    "id": "SRhIhxXuQzGr",
    "outputId": "c4d5256e-bb13-4774-d108-d4b06f8659d5"
   },
   "outputs": [
    {
     "data": {
      "text/plain": [
       "185.48178796166195"
      ]
     },
     "execution_count": 75,
     "metadata": {},
     "output_type": "execute_result"
    }
   ],
   "source": [
    "np.sqrt(mean_squared_error(y_test,predictions))"
   ]
  },
  {
   "cell_type": "code",
   "execution_count": 76,
   "metadata": {
    "colab": {
     "base_uri": "https://localhost:8080/",
     "height": 35
    },
    "colab_type": "code",
    "id": "OPa8Wz2EQ1-I",
    "outputId": "3720658e-98fe-4e59-d9c1-c8057728e1ab"
   },
   "outputs": [
    {
     "data": {
      "text/plain": [
       "-358.79172291422776"
      ]
     },
     "execution_count": 76,
     "metadata": {},
     "output_type": "execute_result"
    }
   ],
   "source": [
    "explained_variance_score(y_test,predictions)"
   ]
  },
  {
   "cell_type": "code",
   "execution_count": 77,
   "metadata": {
    "colab": {
     "base_uri": "https://localhost:8080/",
     "height": 283
    },
    "colab_type": "code",
    "id": "2HHsIQIiQ4fH",
    "outputId": "ef1e149f-1012-4476-f70e-f02f115e864a"
   },
   "outputs": [
    {
     "data": {
      "text/plain": [
       "[<matplotlib.lines.Line2D at 0x198333566c8>]"
      ]
     },
     "execution_count": 77,
     "metadata": {},
     "output_type": "execute_result"
    },
    {
     "data": {
      "image/png": "[encoded data removed]",
      "text/plain": [
       "<Figure size 432x288 with 1 Axes>"
      ]
     },
     "metadata": {
      "needs_background": "light"
     },
     "output_type": "display_data"
    }
   ],
   "source": [
    "plt.scatter(y_test,predictions)\n",
    "plt.plot(y_test,y_test,'r')"
   ]
  },
  {
   "cell_type": "code",
   "execution_count": 78,
   "metadata": {
    "colab": {
     "base_uri": "https://localhost:8080/",
     "height": 283
    },
    "colab_type": "code",
    "id": "QdgnmEf0Q6SC",
    "outputId": "845179be-4c78-4dcb-82bf-ff830f77e167"
   },
   "outputs": [
    {
     "data": {
      "text/plain": [
       "<matplotlib.axes._subplots.AxesSubplot at 0x198332b6788>"
      ]
     },
     "execution_count": 78,
     "metadata": {},
     "output_type": "execute_result"
    },
    {
     "data": {
      "image/png": "[encoded data removed]",
      "text/plain": [
       "<Figure size 432x288 with 1 Axes>"
      ]
     },
     "metadata": {
      "needs_background": "light"
     },
     "output_type": "display_data"
    }
   ],
   "source": [
    "errors = y_test.values - predictions\n",
    "sns.distplot(errors)"
   ]
  },
  {
   "cell_type": "code",
   "execution_count": 79,
   "metadata": {
    "colab": {},
    "colab_type": "code",
    "id": "oeIrdjV6X37p"
   },
   "outputs": [],
   "source": [
    "X_train = pscaler.fit_transform(X_train)\n",
    "X_test = pscaler.transform(X_test)"
   ]
  },
  {
   "cell_type": "code",
   "execution_count": 80,
   "metadata": {
    "colab": {},
    "colab_type": "code",
    "id": "stmkydDeYBez"
   },
   "outputs": [
    {
     "data": {
      "text/plain": [
       "<tensorflow.python.keras.callbacks.History at 0x19833403048>"
      ]
     },
     "execution_count": 80,
     "metadata": {},
     "output_type": "execute_result"
    }
   ],
   "source": [
    "model.fit(x=X_train,y=y_train.values,\n",
    "          validation_data=(X_test,y_test.values),epochs=200, verbose = 0)"
   ]
  },
  {
   "cell_type": "code",
   "execution_count": 81,
   "metadata": {
    "colab": {
     "base_uri": "https://localhost:8080/",
     "height": 293
    },
    "colab_type": "code",
    "id": "X_uMhvMIYEhO",
    "outputId": "c6c11357-51a8-4139-9f71-35c0cd250ed5"
   },
   "outputs": [
    {
     "data": {
      "text/plain": [
       "<matplotlib.axes._subplots.AxesSubplot at 0x198334f1e08>"
      ]
     },
     "execution_count": 81,
     "metadata": {},
     "output_type": "execute_result"
    },
    {
     "data": {
      "image/png": "[encoded data removed]",
      "text/plain": [
       "<Figure size 432x288 with 1 Axes>"
      ]
     },
     "metadata": {
      "needs_background": "light"
     },
     "output_type": "display_data"
    }
   ],
   "source": [
    "losses = pd.DataFrame(model.history.history)\n",
    "losses.plot()"
   ]
  },
  {
   "cell_type": "code",
   "execution_count": 82,
   "metadata": {
    "colab": {
     "base_uri": "https://localhost:8080/",
     "height": 35
    },
    "colab_type": "code",
    "id": "AepO-sPNYIq9",
    "outputId": "6974c726-a528-46d1-b201-c19100896027"
   },
   "outputs": [
    {
     "data": {
      "text/plain": [
       "18.636774253088053"
      ]
     },
     "execution_count": 82,
     "metadata": {},
     "output_type": "execute_result"
    }
   ],
   "source": [
    "predictions = model.predict(X_test)\n",
    "mean_absolute_error(y_test,predictions)"
   ]
  },
  {
   "cell_type": "code",
   "execution_count": 83,
   "metadata": {
    "colab": {
     "base_uri": "https://localhost:8080/",
     "height": 35
    },
    "colab_type": "code",
    "id": "c_1lwBbyYQUj",
    "outputId": "99e92f0d-8c88-48d1-ad2b-16ebf420d8a4"
   },
   "outputs": [
    {
     "data": {
      "text/plain": [
       "94.65636472848888"
      ]
     },
     "execution_count": 83,
     "metadata": {},
     "output_type": "execute_result"
    }
   ],
   "source": [
    "np.sqrt(mean_squared_error(y_test,predictions))"
   ]
  },
  {
   "cell_type": "code",
   "execution_count": 84,
   "metadata": {
    "colab": {
     "base_uri": "https://localhost:8080/",
     "height": 35
    },
    "colab_type": "code",
    "id": "G0FDkJj_YTYI",
    "outputId": "760fdbda-9bd0-480d-8366-8b8b55544678"
   },
   "outputs": [
    {
     "data": {
      "text/plain": [
       "-92.83218223410343"
      ]
     },
     "execution_count": 84,
     "metadata": {},
     "output_type": "execute_result"
    }
   ],
   "source": [
    "explained_variance_score(y_test,predictions)"
   ]
  },
  {
   "cell_type": "code",
   "execution_count": 85,
   "metadata": {
    "colab": {
     "base_uri": "https://localhost:8080/",
     "height": 283
    },
    "colab_type": "code",
    "id": "HI7EeP6oYXQ8",
    "outputId": "07c4a446-a38e-4d7f-e634-fab85949efa2"
   },
   "outputs": [
    {
     "data": {
      "text/plain": [
       "[<matplotlib.lines.Line2D at 0x1983347f748>]"
      ]
     },
     "execution_count": 85,
     "metadata": {},
     "output_type": "execute_result"
    },
    {
     "data": {
      "image/png": "[encoded data removed]",
      "text/plain": [
       "<Figure size 432x288 with 1 Axes>"
      ]
     },
     "metadata": {
      "needs_background": "light"
     },
     "output_type": "display_data"
    }
   ],
   "source": [
    "plt.scatter(y_test,predictions)\n",
    "plt.plot(y_test,y_test,'r')"
   ]
  },
  {
   "cell_type": "markdown",
   "metadata": {},
   "source": [
    "# References\n",
    "[1] Policy and Governmental Affairs Office of Highway Policy Information\n",
    "\n",
    "[2] BidNet.com Business Insight\n",
    "\n",
    "[3] The Mechanistic-Empirical Pavement Design Guide, related documentation, and the latest version of its software are available online for evaluation through 30 September 2011.\n",
    "\n",
    "[4] Latin Hypercube Sampling: Simple Definition. Statistics How To. \n",
    "\n",
    "[5] Preparation for Implementation of the MechanisticEmpirical Pavement Design Guide in Michigan Part 3 "
   ]
  }
 ],
 "metadata": {
  "colab": {
   "collapsed_sections": [],
   "name": "Pavement-ME.ipynb",
   "provenance": [],
   "toc_visible": true
  },
  "kernelspec": {
   "display_name": "PyTF",
   "language": "python",
   "name": "tf"
  },
  "language_info": {
   "codemirror_mode": {
    "name": "ipython",
    "version": 3
   },
   "file_extension": ".py",
   "mimetype": "text/x-python",
   "name": "python",
   "nbconvert_exporter": "python",
   "pygments_lexer": "ipython3",
   "version": "3.7.7"
  }
 },
 "nbformat": 4,
 "nbformat_minor": 1
}
